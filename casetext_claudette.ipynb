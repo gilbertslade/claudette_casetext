{
  "nbformat": 4,
  "nbformat_minor": 0,
  "metadata": {
    "colab": {
      "name": "casetext_claudette.ipynb",
      "provenance": [],
      "collapsed_sections": [],
      "authorship_tag": "ABX9TyPAAj4ZEaLa60OfTQ+4AK7O",
      "include_colab_link": true
    },
    "kernelspec": {
      "name": "python3",
      "display_name": "Python 3"
    },
    "language_info": {
      "name": "python"
    },
    "accelerator": "GPU",
    "widgets": {
      "application/vnd.jupyter.widget-state+json": {
        "698ab8ef86764afd87556a19a76a0d35": {
          "model_module": "@jupyter-widgets/controls",
          "model_name": "HBoxModel",
          "state": {
            "_view_name": "HBoxView",
            "_dom_classes": [],
            "_model_name": "HBoxModel",
            "_view_module": "@jupyter-widgets/controls",
            "_model_module_version": "1.5.0",
            "_view_count": null,
            "_view_module_version": "1.5.0",
            "box_style": "",
            "layout": "IPY_MODEL_feadddd7589c45408328d5e81d7be9d1",
            "_model_module": "@jupyter-widgets/controls",
            "children": [
              "IPY_MODEL_3ffa7c85e3b54222b78fdd6f49ef68a8",
              "IPY_MODEL_52e2da01d40343aca060f03a5bb2214a"
            ]
          }
        },
        "feadddd7589c45408328d5e81d7be9d1": {
          "model_module": "@jupyter-widgets/base",
          "model_name": "LayoutModel",
          "state": {
            "_view_name": "LayoutView",
            "grid_template_rows": null,
            "right": null,
            "justify_content": null,
            "_view_module": "@jupyter-widgets/base",
            "overflow": null,
            "_model_module_version": "1.2.0",
            "_view_count": null,
            "flex_flow": null,
            "width": null,
            "min_width": null,
            "border": null,
            "align_items": null,
            "bottom": null,
            "_model_module": "@jupyter-widgets/base",
            "top": null,
            "grid_column": null,
            "overflow_y": null,
            "overflow_x": null,
            "grid_auto_flow": null,
            "grid_area": null,
            "grid_template_columns": null,
            "flex": null,
            "_model_name": "LayoutModel",
            "justify_items": null,
            "grid_row": null,
            "max_height": null,
            "align_content": null,
            "visibility": null,
            "align_self": null,
            "height": null,
            "min_height": null,
            "padding": null,
            "grid_auto_rows": null,
            "grid_gap": null,
            "max_width": null,
            "order": null,
            "_view_module_version": "1.2.0",
            "grid_template_areas": null,
            "object_position": null,
            "object_fit": null,
            "grid_auto_columns": null,
            "margin": null,
            "display": null,
            "left": null
          }
        },
        "3ffa7c85e3b54222b78fdd6f49ef68a8": {
          "model_module": "@jupyter-widgets/controls",
          "model_name": "FloatProgressModel",
          "state": {
            "_view_name": "ProgressView",
            "style": "IPY_MODEL_1bcd55aa75ff4799abb53dc0a1e130b4",
            "_dom_classes": [],
            "description": "Downloading: 100%",
            "_model_name": "FloatProgressModel",
            "bar_style": "success",
            "max": 231508,
            "_view_module": "@jupyter-widgets/controls",
            "_model_module_version": "1.5.0",
            "value": 231508,
            "_view_count": null,
            "_view_module_version": "1.5.0",
            "orientation": "horizontal",
            "min": 0,
            "description_tooltip": null,
            "_model_module": "@jupyter-widgets/controls",
            "layout": "IPY_MODEL_b0d39172270c462fb67710388cbe25f0"
          }
        },
        "52e2da01d40343aca060f03a5bb2214a": {
          "model_module": "@jupyter-widgets/controls",
          "model_name": "HTMLModel",
          "state": {
            "_view_name": "HTMLView",
            "style": "IPY_MODEL_3d96fee7f7c84c8597e597d00f552725",
            "_dom_classes": [],
            "description": "",
            "_model_name": "HTMLModel",
            "placeholder": "​",
            "_view_module": "@jupyter-widgets/controls",
            "_model_module_version": "1.5.0",
            "value": " 232k/232k [00:00&lt;00:00, 627kB/s]",
            "_view_count": null,
            "_view_module_version": "1.5.0",
            "description_tooltip": null,
            "_model_module": "@jupyter-widgets/controls",
            "layout": "IPY_MODEL_2c7799252d004ac5a1695d3d3a7a8fff"
          }
        },
        "1bcd55aa75ff4799abb53dc0a1e130b4": {
          "model_module": "@jupyter-widgets/controls",
          "model_name": "ProgressStyleModel",
          "state": {
            "_view_name": "StyleView",
            "_model_name": "ProgressStyleModel",
            "description_width": "initial",
            "_view_module": "@jupyter-widgets/base",
            "_model_module_version": "1.5.0",
            "_view_count": null,
            "_view_module_version": "1.2.0",
            "bar_color": null,
            "_model_module": "@jupyter-widgets/controls"
          }
        },
        "b0d39172270c462fb67710388cbe25f0": {
          "model_module": "@jupyter-widgets/base",
          "model_name": "LayoutModel",
          "state": {
            "_view_name": "LayoutView",
            "grid_template_rows": null,
            "right": null,
            "justify_content": null,
            "_view_module": "@jupyter-widgets/base",
            "overflow": null,
            "_model_module_version": "1.2.0",
            "_view_count": null,
            "flex_flow": null,
            "width": null,
            "min_width": null,
            "border": null,
            "align_items": null,
            "bottom": null,
            "_model_module": "@jupyter-widgets/base",
            "top": null,
            "grid_column": null,
            "overflow_y": null,
            "overflow_x": null,
            "grid_auto_flow": null,
            "grid_area": null,
            "grid_template_columns": null,
            "flex": null,
            "_model_name": "LayoutModel",
            "justify_items": null,
            "grid_row": null,
            "max_height": null,
            "align_content": null,
            "visibility": null,
            "align_self": null,
            "height": null,
            "min_height": null,
            "padding": null,
            "grid_auto_rows": null,
            "grid_gap": null,
            "max_width": null,
            "order": null,
            "_view_module_version": "1.2.0",
            "grid_template_areas": null,
            "object_position": null,
            "object_fit": null,
            "grid_auto_columns": null,
            "margin": null,
            "display": null,
            "left": null
          }
        },
        "3d96fee7f7c84c8597e597d00f552725": {
          "model_module": "@jupyter-widgets/controls",
          "model_name": "DescriptionStyleModel",
          "state": {
            "_view_name": "StyleView",
            "_model_name": "DescriptionStyleModel",
            "description_width": "",
            "_view_module": "@jupyter-widgets/base",
            "_model_module_version": "1.5.0",
            "_view_count": null,
            "_view_module_version": "1.2.0",
            "_model_module": "@jupyter-widgets/controls"
          }
        },
        "2c7799252d004ac5a1695d3d3a7a8fff": {
          "model_module": "@jupyter-widgets/base",
          "model_name": "LayoutModel",
          "state": {
            "_view_name": "LayoutView",
            "grid_template_rows": null,
            "right": null,
            "justify_content": null,
            "_view_module": "@jupyter-widgets/base",
            "overflow": null,
            "_model_module_version": "1.2.0",
            "_view_count": null,
            "flex_flow": null,
            "width": null,
            "min_width": null,
            "border": null,
            "align_items": null,
            "bottom": null,
            "_model_module": "@jupyter-widgets/base",
            "top": null,
            "grid_column": null,
            "overflow_y": null,
            "overflow_x": null,
            "grid_auto_flow": null,
            "grid_area": null,
            "grid_template_columns": null,
            "flex": null,
            "_model_name": "LayoutModel",
            "justify_items": null,
            "grid_row": null,
            "max_height": null,
            "align_content": null,
            "visibility": null,
            "align_self": null,
            "height": null,
            "min_height": null,
            "padding": null,
            "grid_auto_rows": null,
            "grid_gap": null,
            "max_width": null,
            "order": null,
            "_view_module_version": "1.2.0",
            "grid_template_areas": null,
            "object_position": null,
            "object_fit": null,
            "grid_auto_columns": null,
            "margin": null,
            "display": null,
            "left": null
          }
        },
        "78526ed8e93644ccab4a32443abdd3a3": {
          "model_module": "@jupyter-widgets/controls",
          "model_name": "HBoxModel",
          "state": {
            "_view_name": "HBoxView",
            "_dom_classes": [],
            "_model_name": "HBoxModel",
            "_view_module": "@jupyter-widgets/controls",
            "_model_module_version": "1.5.0",
            "_view_count": null,
            "_view_module_version": "1.5.0",
            "box_style": "",
            "layout": "IPY_MODEL_b5930bfe7afa4c2fb22ed5149260e7c4",
            "_model_module": "@jupyter-widgets/controls",
            "children": [
              "IPY_MODEL_0c9738b636314efcbb773ca077c38761",
              "IPY_MODEL_326fcc9d3dee4dbcb93d73a4936f39cd"
            ]
          }
        },
        "b5930bfe7afa4c2fb22ed5149260e7c4": {
          "model_module": "@jupyter-widgets/base",
          "model_name": "LayoutModel",
          "state": {
            "_view_name": "LayoutView",
            "grid_template_rows": null,
            "right": null,
            "justify_content": null,
            "_view_module": "@jupyter-widgets/base",
            "overflow": null,
            "_model_module_version": "1.2.0",
            "_view_count": null,
            "flex_flow": null,
            "width": null,
            "min_width": null,
            "border": null,
            "align_items": null,
            "bottom": null,
            "_model_module": "@jupyter-widgets/base",
            "top": null,
            "grid_column": null,
            "overflow_y": null,
            "overflow_x": null,
            "grid_auto_flow": null,
            "grid_area": null,
            "grid_template_columns": null,
            "flex": null,
            "_model_name": "LayoutModel",
            "justify_items": null,
            "grid_row": null,
            "max_height": null,
            "align_content": null,
            "visibility": null,
            "align_self": null,
            "height": null,
            "min_height": null,
            "padding": null,
            "grid_auto_rows": null,
            "grid_gap": null,
            "max_width": null,
            "order": null,
            "_view_module_version": "1.2.0",
            "grid_template_areas": null,
            "object_position": null,
            "object_fit": null,
            "grid_auto_columns": null,
            "margin": null,
            "display": null,
            "left": null
          }
        },
        "0c9738b636314efcbb773ca077c38761": {
          "model_module": "@jupyter-widgets/controls",
          "model_name": "FloatProgressModel",
          "state": {
            "_view_name": "ProgressView",
            "style": "IPY_MODEL_8967fd1310cc44bfbbd3238d2f650bf0",
            "_dom_classes": [],
            "description": "Downloading: 100%",
            "_model_name": "FloatProgressModel",
            "bar_style": "success",
            "max": 28,
            "_view_module": "@jupyter-widgets/controls",
            "_model_module_version": "1.5.0",
            "value": 28,
            "_view_count": null,
            "_view_module_version": "1.5.0",
            "orientation": "horizontal",
            "min": 0,
            "description_tooltip": null,
            "_model_module": "@jupyter-widgets/controls",
            "layout": "IPY_MODEL_c2e71b258e9d40819743e063ef5b36cd"
          }
        },
        "326fcc9d3dee4dbcb93d73a4936f39cd": {
          "model_module": "@jupyter-widgets/controls",
          "model_name": "HTMLModel",
          "state": {
            "_view_name": "HTMLView",
            "style": "IPY_MODEL_382482232fcd4faba62172faa32e5e46",
            "_dom_classes": [],
            "description": "",
            "_model_name": "HTMLModel",
            "placeholder": "​",
            "_view_module": "@jupyter-widgets/controls",
            "_model_module_version": "1.5.0",
            "value": " 28.0/28.0 [00:00&lt;00:00, 258B/s]",
            "_view_count": null,
            "_view_module_version": "1.5.0",
            "description_tooltip": null,
            "_model_module": "@jupyter-widgets/controls",
            "layout": "IPY_MODEL_7da6cedd8bbe494493ada0566b2c46ed"
          }
        },
        "8967fd1310cc44bfbbd3238d2f650bf0": {
          "model_module": "@jupyter-widgets/controls",
          "model_name": "ProgressStyleModel",
          "state": {
            "_view_name": "StyleView",
            "_model_name": "ProgressStyleModel",
            "description_width": "initial",
            "_view_module": "@jupyter-widgets/base",
            "_model_module_version": "1.5.0",
            "_view_count": null,
            "_view_module_version": "1.2.0",
            "bar_color": null,
            "_model_module": "@jupyter-widgets/controls"
          }
        },
        "c2e71b258e9d40819743e063ef5b36cd": {
          "model_module": "@jupyter-widgets/base",
          "model_name": "LayoutModel",
          "state": {
            "_view_name": "LayoutView",
            "grid_template_rows": null,
            "right": null,
            "justify_content": null,
            "_view_module": "@jupyter-widgets/base",
            "overflow": null,
            "_model_module_version": "1.2.0",
            "_view_count": null,
            "flex_flow": null,
            "width": null,
            "min_width": null,
            "border": null,
            "align_items": null,
            "bottom": null,
            "_model_module": "@jupyter-widgets/base",
            "top": null,
            "grid_column": null,
            "overflow_y": null,
            "overflow_x": null,
            "grid_auto_flow": null,
            "grid_area": null,
            "grid_template_columns": null,
            "flex": null,
            "_model_name": "LayoutModel",
            "justify_items": null,
            "grid_row": null,
            "max_height": null,
            "align_content": null,
            "visibility": null,
            "align_self": null,
            "height": null,
            "min_height": null,
            "padding": null,
            "grid_auto_rows": null,
            "grid_gap": null,
            "max_width": null,
            "order": null,
            "_view_module_version": "1.2.0",
            "grid_template_areas": null,
            "object_position": null,
            "object_fit": null,
            "grid_auto_columns": null,
            "margin": null,
            "display": null,
            "left": null
          }
        },
        "382482232fcd4faba62172faa32e5e46": {
          "model_module": "@jupyter-widgets/controls",
          "model_name": "DescriptionStyleModel",
          "state": {
            "_view_name": "StyleView",
            "_model_name": "DescriptionStyleModel",
            "description_width": "",
            "_view_module": "@jupyter-widgets/base",
            "_model_module_version": "1.5.0",
            "_view_count": null,
            "_view_module_version": "1.2.0",
            "_model_module": "@jupyter-widgets/controls"
          }
        },
        "7da6cedd8bbe494493ada0566b2c46ed": {
          "model_module": "@jupyter-widgets/base",
          "model_name": "LayoutModel",
          "state": {
            "_view_name": "LayoutView",
            "grid_template_rows": null,
            "right": null,
            "justify_content": null,
            "_view_module": "@jupyter-widgets/base",
            "overflow": null,
            "_model_module_version": "1.2.0",
            "_view_count": null,
            "flex_flow": null,
            "width": null,
            "min_width": null,
            "border": null,
            "align_items": null,
            "bottom": null,
            "_model_module": "@jupyter-widgets/base",
            "top": null,
            "grid_column": null,
            "overflow_y": null,
            "overflow_x": null,
            "grid_auto_flow": null,
            "grid_area": null,
            "grid_template_columns": null,
            "flex": null,
            "_model_name": "LayoutModel",
            "justify_items": null,
            "grid_row": null,
            "max_height": null,
            "align_content": null,
            "visibility": null,
            "align_self": null,
            "height": null,
            "min_height": null,
            "padding": null,
            "grid_auto_rows": null,
            "grid_gap": null,
            "max_width": null,
            "order": null,
            "_view_module_version": "1.2.0",
            "grid_template_areas": null,
            "object_position": null,
            "object_fit": null,
            "grid_auto_columns": null,
            "margin": null,
            "display": null,
            "left": null
          }
        },
        "a3f2889b5528401681ef552bb01791a0": {
          "model_module": "@jupyter-widgets/controls",
          "model_name": "HBoxModel",
          "state": {
            "_view_name": "HBoxView",
            "_dom_classes": [],
            "_model_name": "HBoxModel",
            "_view_module": "@jupyter-widgets/controls",
            "_model_module_version": "1.5.0",
            "_view_count": null,
            "_view_module_version": "1.5.0",
            "box_style": "",
            "layout": "IPY_MODEL_c86dba56b2bb4ec29ffc5acfeab54dd5",
            "_model_module": "@jupyter-widgets/controls",
            "children": [
              "IPY_MODEL_c2e0c5b3f6d34b4cb55719da44b6662e",
              "IPY_MODEL_0909f831fe11472ca44cd3b723861140"
            ]
          }
        },
        "c86dba56b2bb4ec29ffc5acfeab54dd5": {
          "model_module": "@jupyter-widgets/base",
          "model_name": "LayoutModel",
          "state": {
            "_view_name": "LayoutView",
            "grid_template_rows": null,
            "right": null,
            "justify_content": null,
            "_view_module": "@jupyter-widgets/base",
            "overflow": null,
            "_model_module_version": "1.2.0",
            "_view_count": null,
            "flex_flow": null,
            "width": null,
            "min_width": null,
            "border": null,
            "align_items": null,
            "bottom": null,
            "_model_module": "@jupyter-widgets/base",
            "top": null,
            "grid_column": null,
            "overflow_y": null,
            "overflow_x": null,
            "grid_auto_flow": null,
            "grid_area": null,
            "grid_template_columns": null,
            "flex": null,
            "_model_name": "LayoutModel",
            "justify_items": null,
            "grid_row": null,
            "max_height": null,
            "align_content": null,
            "visibility": null,
            "align_self": null,
            "height": null,
            "min_height": null,
            "padding": null,
            "grid_auto_rows": null,
            "grid_gap": null,
            "max_width": null,
            "order": null,
            "_view_module_version": "1.2.0",
            "grid_template_areas": null,
            "object_position": null,
            "object_fit": null,
            "grid_auto_columns": null,
            "margin": null,
            "display": null,
            "left": null
          }
        },
        "c2e0c5b3f6d34b4cb55719da44b6662e": {
          "model_module": "@jupyter-widgets/controls",
          "model_name": "FloatProgressModel",
          "state": {
            "_view_name": "ProgressView",
            "style": "IPY_MODEL_f7d6904684954ccaa6f1fb215c8b7c38",
            "_dom_classes": [],
            "description": "Downloading: 100%",
            "_model_name": "FloatProgressModel",
            "bar_style": "success",
            "max": 466062,
            "_view_module": "@jupyter-widgets/controls",
            "_model_module_version": "1.5.0",
            "value": 466062,
            "_view_count": null,
            "_view_module_version": "1.5.0",
            "orientation": "horizontal",
            "min": 0,
            "description_tooltip": null,
            "_model_module": "@jupyter-widgets/controls",
            "layout": "IPY_MODEL_49ff6719dd1e42f1891ec4ca9ab29d55"
          }
        },
        "0909f831fe11472ca44cd3b723861140": {
          "model_module": "@jupyter-widgets/controls",
          "model_name": "HTMLModel",
          "state": {
            "_view_name": "HTMLView",
            "style": "IPY_MODEL_d20805d5052742d4950572958bcb8e30",
            "_dom_classes": [],
            "description": "",
            "_model_name": "HTMLModel",
            "placeholder": "​",
            "_view_module": "@jupyter-widgets/controls",
            "_model_module_version": "1.5.0",
            "value": " 466k/466k [06:31&lt;00:00, 1.19kB/s]",
            "_view_count": null,
            "_view_module_version": "1.5.0",
            "description_tooltip": null,
            "_model_module": "@jupyter-widgets/controls",
            "layout": "IPY_MODEL_cca34422963b46199abb8ab7c87eeefd"
          }
        },
        "f7d6904684954ccaa6f1fb215c8b7c38": {
          "model_module": "@jupyter-widgets/controls",
          "model_name": "ProgressStyleModel",
          "state": {
            "_view_name": "StyleView",
            "_model_name": "ProgressStyleModel",
            "description_width": "initial",
            "_view_module": "@jupyter-widgets/base",
            "_model_module_version": "1.5.0",
            "_view_count": null,
            "_view_module_version": "1.2.0",
            "bar_color": null,
            "_model_module": "@jupyter-widgets/controls"
          }
        },
        "49ff6719dd1e42f1891ec4ca9ab29d55": {
          "model_module": "@jupyter-widgets/base",
          "model_name": "LayoutModel",
          "state": {
            "_view_name": "LayoutView",
            "grid_template_rows": null,
            "right": null,
            "justify_content": null,
            "_view_module": "@jupyter-widgets/base",
            "overflow": null,
            "_model_module_version": "1.2.0",
            "_view_count": null,
            "flex_flow": null,
            "width": null,
            "min_width": null,
            "border": null,
            "align_items": null,
            "bottom": null,
            "_model_module": "@jupyter-widgets/base",
            "top": null,
            "grid_column": null,
            "overflow_y": null,
            "overflow_x": null,
            "grid_auto_flow": null,
            "grid_area": null,
            "grid_template_columns": null,
            "flex": null,
            "_model_name": "LayoutModel",
            "justify_items": null,
            "grid_row": null,
            "max_height": null,
            "align_content": null,
            "visibility": null,
            "align_self": null,
            "height": null,
            "min_height": null,
            "padding": null,
            "grid_auto_rows": null,
            "grid_gap": null,
            "max_width": null,
            "order": null,
            "_view_module_version": "1.2.0",
            "grid_template_areas": null,
            "object_position": null,
            "object_fit": null,
            "grid_auto_columns": null,
            "margin": null,
            "display": null,
            "left": null
          }
        },
        "d20805d5052742d4950572958bcb8e30": {
          "model_module": "@jupyter-widgets/controls",
          "model_name": "DescriptionStyleModel",
          "state": {
            "_view_name": "StyleView",
            "_model_name": "DescriptionStyleModel",
            "description_width": "",
            "_view_module": "@jupyter-widgets/base",
            "_model_module_version": "1.5.0",
            "_view_count": null,
            "_view_module_version": "1.2.0",
            "_model_module": "@jupyter-widgets/controls"
          }
        },
        "cca34422963b46199abb8ab7c87eeefd": {
          "model_module": "@jupyter-widgets/base",
          "model_name": "LayoutModel",
          "state": {
            "_view_name": "LayoutView",
            "grid_template_rows": null,
            "right": null,
            "justify_content": null,
            "_view_module": "@jupyter-widgets/base",
            "overflow": null,
            "_model_module_version": "1.2.0",
            "_view_count": null,
            "flex_flow": null,
            "width": null,
            "min_width": null,
            "border": null,
            "align_items": null,
            "bottom": null,
            "_model_module": "@jupyter-widgets/base",
            "top": null,
            "grid_column": null,
            "overflow_y": null,
            "overflow_x": null,
            "grid_auto_flow": null,
            "grid_area": null,
            "grid_template_columns": null,
            "flex": null,
            "_model_name": "LayoutModel",
            "justify_items": null,
            "grid_row": null,
            "max_height": null,
            "align_content": null,
            "visibility": null,
            "align_self": null,
            "height": null,
            "min_height": null,
            "padding": null,
            "grid_auto_rows": null,
            "grid_gap": null,
            "max_width": null,
            "order": null,
            "_view_module_version": "1.2.0",
            "grid_template_areas": null,
            "object_position": null,
            "object_fit": null,
            "grid_auto_columns": null,
            "margin": null,
            "display": null,
            "left": null
          }
        },
        "1723c9c2c1e1427cb494a4ff51e25851": {
          "model_module": "@jupyter-widgets/controls",
          "model_name": "HBoxModel",
          "state": {
            "_view_name": "HBoxView",
            "_dom_classes": [],
            "_model_name": "HBoxModel",
            "_view_module": "@jupyter-widgets/controls",
            "_model_module_version": "1.5.0",
            "_view_count": null,
            "_view_module_version": "1.5.0",
            "box_style": "",
            "layout": "IPY_MODEL_9691ca53007c42c5bb3c0ef816919f52",
            "_model_module": "@jupyter-widgets/controls",
            "children": [
              "IPY_MODEL_a59a0b4a8e134c5889d8a0d06a8624c3",
              "IPY_MODEL_1a74949e066f4d4fbcfa2ee01b93b888"
            ]
          }
        },
        "9691ca53007c42c5bb3c0ef816919f52": {
          "model_module": "@jupyter-widgets/base",
          "model_name": "LayoutModel",
          "state": {
            "_view_name": "LayoutView",
            "grid_template_rows": null,
            "right": null,
            "justify_content": null,
            "_view_module": "@jupyter-widgets/base",
            "overflow": null,
            "_model_module_version": "1.2.0",
            "_view_count": null,
            "flex_flow": null,
            "width": null,
            "min_width": null,
            "border": null,
            "align_items": null,
            "bottom": null,
            "_model_module": "@jupyter-widgets/base",
            "top": null,
            "grid_column": null,
            "overflow_y": null,
            "overflow_x": null,
            "grid_auto_flow": null,
            "grid_area": null,
            "grid_template_columns": null,
            "flex": null,
            "_model_name": "LayoutModel",
            "justify_items": null,
            "grid_row": null,
            "max_height": null,
            "align_content": null,
            "visibility": null,
            "align_self": null,
            "height": null,
            "min_height": null,
            "padding": null,
            "grid_auto_rows": null,
            "grid_gap": null,
            "max_width": null,
            "order": null,
            "_view_module_version": "1.2.0",
            "grid_template_areas": null,
            "object_position": null,
            "object_fit": null,
            "grid_auto_columns": null,
            "margin": null,
            "display": null,
            "left": null
          }
        },
        "a59a0b4a8e134c5889d8a0d06a8624c3": {
          "model_module": "@jupyter-widgets/controls",
          "model_name": "FloatProgressModel",
          "state": {
            "_view_name": "ProgressView",
            "style": "IPY_MODEL_c6e2127157284d05a5202260ef545e9b",
            "_dom_classes": [],
            "description": "Downloading: 100%",
            "_model_name": "FloatProgressModel",
            "bar_style": "success",
            "max": 570,
            "_view_module": "@jupyter-widgets/controls",
            "_model_module_version": "1.5.0",
            "value": 570,
            "_view_count": null,
            "_view_module_version": "1.5.0",
            "orientation": "horizontal",
            "min": 0,
            "description_tooltip": null,
            "_model_module": "@jupyter-widgets/controls",
            "layout": "IPY_MODEL_b81a9f9fee3041b7ad125f4c1e2338a1"
          }
        },
        "1a74949e066f4d4fbcfa2ee01b93b888": {
          "model_module": "@jupyter-widgets/controls",
          "model_name": "HTMLModel",
          "state": {
            "_view_name": "HTMLView",
            "style": "IPY_MODEL_53687a1766a949919c7a5c144b13cdd3",
            "_dom_classes": [],
            "description": "",
            "_model_name": "HTMLModel",
            "placeholder": "​",
            "_view_module": "@jupyter-widgets/controls",
            "_model_module_version": "1.5.0",
            "value": " 570/570 [00:00&lt;00:00, 2.91kB/s]",
            "_view_count": null,
            "_view_module_version": "1.5.0",
            "description_tooltip": null,
            "_model_module": "@jupyter-widgets/controls",
            "layout": "IPY_MODEL_ac4caeec113d481abcd741f8a07b5093"
          }
        },
        "c6e2127157284d05a5202260ef545e9b": {
          "model_module": "@jupyter-widgets/controls",
          "model_name": "ProgressStyleModel",
          "state": {
            "_view_name": "StyleView",
            "_model_name": "ProgressStyleModel",
            "description_width": "initial",
            "_view_module": "@jupyter-widgets/base",
            "_model_module_version": "1.5.0",
            "_view_count": null,
            "_view_module_version": "1.2.0",
            "bar_color": null,
            "_model_module": "@jupyter-widgets/controls"
          }
        },
        "b81a9f9fee3041b7ad125f4c1e2338a1": {
          "model_module": "@jupyter-widgets/base",
          "model_name": "LayoutModel",
          "state": {
            "_view_name": "LayoutView",
            "grid_template_rows": null,
            "right": null,
            "justify_content": null,
            "_view_module": "@jupyter-widgets/base",
            "overflow": null,
            "_model_module_version": "1.2.0",
            "_view_count": null,
            "flex_flow": null,
            "width": null,
            "min_width": null,
            "border": null,
            "align_items": null,
            "bottom": null,
            "_model_module": "@jupyter-widgets/base",
            "top": null,
            "grid_column": null,
            "overflow_y": null,
            "overflow_x": null,
            "grid_auto_flow": null,
            "grid_area": null,
            "grid_template_columns": null,
            "flex": null,
            "_model_name": "LayoutModel",
            "justify_items": null,
            "grid_row": null,
            "max_height": null,
            "align_content": null,
            "visibility": null,
            "align_self": null,
            "height": null,
            "min_height": null,
            "padding": null,
            "grid_auto_rows": null,
            "grid_gap": null,
            "max_width": null,
            "order": null,
            "_view_module_version": "1.2.0",
            "grid_template_areas": null,
            "object_position": null,
            "object_fit": null,
            "grid_auto_columns": null,
            "margin": null,
            "display": null,
            "left": null
          }
        },
        "53687a1766a949919c7a5c144b13cdd3": {
          "model_module": "@jupyter-widgets/controls",
          "model_name": "DescriptionStyleModel",
          "state": {
            "_view_name": "StyleView",
            "_model_name": "DescriptionStyleModel",
            "description_width": "",
            "_view_module": "@jupyter-widgets/base",
            "_model_module_version": "1.5.0",
            "_view_count": null,
            "_view_module_version": "1.2.0",
            "_model_module": "@jupyter-widgets/controls"
          }
        },
        "ac4caeec113d481abcd741f8a07b5093": {
          "model_module": "@jupyter-widgets/base",
          "model_name": "LayoutModel",
          "state": {
            "_view_name": "LayoutView",
            "grid_template_rows": null,
            "right": null,
            "justify_content": null,
            "_view_module": "@jupyter-widgets/base",
            "overflow": null,
            "_model_module_version": "1.2.0",
            "_view_count": null,
            "flex_flow": null,
            "width": null,
            "min_width": null,
            "border": null,
            "align_items": null,
            "bottom": null,
            "_model_module": "@jupyter-widgets/base",
            "top": null,
            "grid_column": null,
            "overflow_y": null,
            "overflow_x": null,
            "grid_auto_flow": null,
            "grid_area": null,
            "grid_template_columns": null,
            "flex": null,
            "_model_name": "LayoutModel",
            "justify_items": null,
            "grid_row": null,
            "max_height": null,
            "align_content": null,
            "visibility": null,
            "align_self": null,
            "height": null,
            "min_height": null,
            "padding": null,
            "grid_auto_rows": null,
            "grid_gap": null,
            "max_width": null,
            "order": null,
            "_view_module_version": "1.2.0",
            "grid_template_areas": null,
            "object_position": null,
            "object_fit": null,
            "grid_auto_columns": null,
            "margin": null,
            "display": null,
            "left": null
          }
        },
        "e80fae014c8746a28616d7b7ef5e8d03": {
          "model_module": "@jupyter-widgets/controls",
          "model_name": "HBoxModel",
          "state": {
            "_view_name": "HBoxView",
            "_dom_classes": [],
            "_model_name": "HBoxModel",
            "_view_module": "@jupyter-widgets/controls",
            "_model_module_version": "1.5.0",
            "_view_count": null,
            "_view_module_version": "1.5.0",
            "box_style": "",
            "layout": "IPY_MODEL_d603aa38787045f4bd5cdf17c4649da0",
            "_model_module": "@jupyter-widgets/controls",
            "children": [
              "IPY_MODEL_3df77cde32bd44679340aabed47ffff2",
              "IPY_MODEL_e7def94e8ad543e3a30332c32f14f176"
            ]
          }
        },
        "d603aa38787045f4bd5cdf17c4649da0": {
          "model_module": "@jupyter-widgets/base",
          "model_name": "LayoutModel",
          "state": {
            "_view_name": "LayoutView",
            "grid_template_rows": null,
            "right": null,
            "justify_content": null,
            "_view_module": "@jupyter-widgets/base",
            "overflow": null,
            "_model_module_version": "1.2.0",
            "_view_count": null,
            "flex_flow": null,
            "width": null,
            "min_width": null,
            "border": null,
            "align_items": null,
            "bottom": null,
            "_model_module": "@jupyter-widgets/base",
            "top": null,
            "grid_column": null,
            "overflow_y": null,
            "overflow_x": null,
            "grid_auto_flow": null,
            "grid_area": null,
            "grid_template_columns": null,
            "flex": null,
            "_model_name": "LayoutModel",
            "justify_items": null,
            "grid_row": null,
            "max_height": null,
            "align_content": null,
            "visibility": null,
            "align_self": null,
            "height": null,
            "min_height": null,
            "padding": null,
            "grid_auto_rows": null,
            "grid_gap": null,
            "max_width": null,
            "order": null,
            "_view_module_version": "1.2.0",
            "grid_template_areas": null,
            "object_position": null,
            "object_fit": null,
            "grid_auto_columns": null,
            "margin": null,
            "display": null,
            "left": null
          }
        },
        "3df77cde32bd44679340aabed47ffff2": {
          "model_module": "@jupyter-widgets/controls",
          "model_name": "FloatProgressModel",
          "state": {
            "_view_name": "ProgressView",
            "style": "IPY_MODEL_6352ffd12b3d459f8d1a830a771dd5c4",
            "_dom_classes": [],
            "description": "Downloading: 100%",
            "_model_name": "FloatProgressModel",
            "bar_style": "success",
            "max": 440473133,
            "_view_module": "@jupyter-widgets/controls",
            "_model_module_version": "1.5.0",
            "value": 440473133,
            "_view_count": null,
            "_view_module_version": "1.5.0",
            "orientation": "horizontal",
            "min": 0,
            "description_tooltip": null,
            "_model_module": "@jupyter-widgets/controls",
            "layout": "IPY_MODEL_bf9293d7d2bd4836b262fbfc3b6f07ee"
          }
        },
        "e7def94e8ad543e3a30332c32f14f176": {
          "model_module": "@jupyter-widgets/controls",
          "model_name": "HTMLModel",
          "state": {
            "_view_name": "HTMLView",
            "style": "IPY_MODEL_dfa3b9e44d96435aac4b99b961e6e1db",
            "_dom_classes": [],
            "description": "",
            "_model_name": "HTMLModel",
            "placeholder": "​",
            "_view_module": "@jupyter-widgets/controls",
            "_model_module_version": "1.5.0",
            "value": " 440M/440M [00:10&lt;00:00, 42.1MB/s]",
            "_view_count": null,
            "_view_module_version": "1.5.0",
            "description_tooltip": null,
            "_model_module": "@jupyter-widgets/controls",
            "layout": "IPY_MODEL_37820d03d9434dc1956e2c5d797e1741"
          }
        },
        "6352ffd12b3d459f8d1a830a771dd5c4": {
          "model_module": "@jupyter-widgets/controls",
          "model_name": "ProgressStyleModel",
          "state": {
            "_view_name": "StyleView",
            "_model_name": "ProgressStyleModel",
            "description_width": "initial",
            "_view_module": "@jupyter-widgets/base",
            "_model_module_version": "1.5.0",
            "_view_count": null,
            "_view_module_version": "1.2.0",
            "bar_color": null,
            "_model_module": "@jupyter-widgets/controls"
          }
        },
        "bf9293d7d2bd4836b262fbfc3b6f07ee": {
          "model_module": "@jupyter-widgets/base",
          "model_name": "LayoutModel",
          "state": {
            "_view_name": "LayoutView",
            "grid_template_rows": null,
            "right": null,
            "justify_content": null,
            "_view_module": "@jupyter-widgets/base",
            "overflow": null,
            "_model_module_version": "1.2.0",
            "_view_count": null,
            "flex_flow": null,
            "width": null,
            "min_width": null,
            "border": null,
            "align_items": null,
            "bottom": null,
            "_model_module": "@jupyter-widgets/base",
            "top": null,
            "grid_column": null,
            "overflow_y": null,
            "overflow_x": null,
            "grid_auto_flow": null,
            "grid_area": null,
            "grid_template_columns": null,
            "flex": null,
            "_model_name": "LayoutModel",
            "justify_items": null,
            "grid_row": null,
            "max_height": null,
            "align_content": null,
            "visibility": null,
            "align_self": null,
            "height": null,
            "min_height": null,
            "padding": null,
            "grid_auto_rows": null,
            "grid_gap": null,
            "max_width": null,
            "order": null,
            "_view_module_version": "1.2.0",
            "grid_template_areas": null,
            "object_position": null,
            "object_fit": null,
            "grid_auto_columns": null,
            "margin": null,
            "display": null,
            "left": null
          }
        },
        "dfa3b9e44d96435aac4b99b961e6e1db": {
          "model_module": "@jupyter-widgets/controls",
          "model_name": "DescriptionStyleModel",
          "state": {
            "_view_name": "StyleView",
            "_model_name": "DescriptionStyleModel",
            "description_width": "",
            "_view_module": "@jupyter-widgets/base",
            "_model_module_version": "1.5.0",
            "_view_count": null,
            "_view_module_version": "1.2.0",
            "_model_module": "@jupyter-widgets/controls"
          }
        },
        "37820d03d9434dc1956e2c5d797e1741": {
          "model_module": "@jupyter-widgets/base",
          "model_name": "LayoutModel",
          "state": {
            "_view_name": "LayoutView",
            "grid_template_rows": null,
            "right": null,
            "justify_content": null,
            "_view_module": "@jupyter-widgets/base",
            "overflow": null,
            "_model_module_version": "1.2.0",
            "_view_count": null,
            "flex_flow": null,
            "width": null,
            "min_width": null,
            "border": null,
            "align_items": null,
            "bottom": null,
            "_model_module": "@jupyter-widgets/base",
            "top": null,
            "grid_column": null,
            "overflow_y": null,
            "overflow_x": null,
            "grid_auto_flow": null,
            "grid_area": null,
            "grid_template_columns": null,
            "flex": null,
            "_model_name": "LayoutModel",
            "justify_items": null,
            "grid_row": null,
            "max_height": null,
            "align_content": null,
            "visibility": null,
            "align_self": null,
            "height": null,
            "min_height": null,
            "padding": null,
            "grid_auto_rows": null,
            "grid_gap": null,
            "max_width": null,
            "order": null,
            "_view_module_version": "1.2.0",
            "grid_template_areas": null,
            "object_position": null,
            "object_fit": null,
            "grid_auto_columns": null,
            "margin": null,
            "display": null,
            "left": null
          }
        }
      }
    }
  },
  "cells": [
    {
      "cell_type": "markdown",
      "metadata": {
        "id": "view-in-github",
        "colab_type": "text"
      },
      "source": [
        "<a href=\"https://colab.research.google.com/github/gilbertslade/claudette_casetext/blob/main/casetext_claudette.ipynb\" target=\"_parent\"><img src=\"https://colab.research.google.com/assets/colab-badge.svg\" alt=\"Open In Colab\"/></a>"
      ]
    },
    {
      "cell_type": "markdown",
      "metadata": {
        "id": "eP1Da6fhqL58"
      },
      "source": [
        "**Let's take a dive into the Claudette TOS dataset!**</br>\n",
        "In their paper CLAUDETTE: an Automated Detector of Potentially Unfair Clauses in Online Terms of Service, the authors compare a set of classifiers trained on a professionally labeled dataset made up of individual sentences extracted from online terms of service documents. Notably, they find that conventional classifiers (specifically Support Vector Machines) and encodings (unigram and bigram Bag of Words) outperform several deep learning models. Notably, they do not evaluate against any of the transformer-based class of language models, the BERTs and ELMOs that have taken the NLP world by storm.</br>\n",
        "Below, I sketch out an approach to evaluating BERT embeddings and general methods for refining and comparing classifiers on natural language data.</br>\n",
        "First, let's set up our environment. The code below was written and run as a Jupyter notebook on Google CoLab with GPU access enabled. Let's set the table a bit, first by installing Hugging-Face transformers, a streamlined interface to transformers and GPU based NLP tools."
      ]
    },
    {
      "cell_type": "code",
      "metadata": {
        "colab": {
          "base_uri": "https://localhost:8080/"
        },
        "id": "vv7NAsDO5sH3",
        "outputId": "86339558-cfd7-4637-f36f-8357408a7d71"
      },
      "source": [
        "!pip install transformers"
      ],
      "execution_count": 1,
      "outputs": [
        {
          "output_type": "stream",
          "text": [
            "Collecting transformers\n",
            "\u001b[?25l  Downloading https://files.pythonhosted.org/packages/d5/43/cfe4ee779bbd6a678ac6a97c5a5cdeb03c35f9eaebbb9720b036680f9a2d/transformers-4.6.1-py3-none-any.whl (2.2MB)\n",
            "\r\u001b[K     |▏                               | 10kB 18.8MB/s eta 0:00:01\r\u001b[K     |▎                               | 20kB 26.2MB/s eta 0:00:01\r\u001b[K     |▍                               | 30kB 31.4MB/s eta 0:00:01\r\u001b[K     |▋                               | 40kB 31.3MB/s eta 0:00:01\r\u001b[K     |▊                               | 51kB 33.2MB/s eta 0:00:01\r\u001b[K     |▉                               | 61kB 30.7MB/s eta 0:00:01\r\u001b[K     |█                               | 71kB 27.9MB/s eta 0:00:01\r\u001b[K     |█▏                              | 81kB 28.6MB/s eta 0:00:01\r\u001b[K     |█▎                              | 92kB 28.4MB/s eta 0:00:01\r\u001b[K     |█▌                              | 102kB 29.2MB/s eta 0:00:01\r\u001b[K     |█▋                              | 112kB 29.2MB/s eta 0:00:01\r\u001b[K     |█▊                              | 122kB 29.2MB/s eta 0:00:01\r\u001b[K     |██                              | 133kB 29.2MB/s eta 0:00:01\r\u001b[K     |██                              | 143kB 29.2MB/s eta 0:00:01\r\u001b[K     |██▏                             | 153kB 29.2MB/s eta 0:00:01\r\u001b[K     |██▎                             | 163kB 29.2MB/s eta 0:00:01\r\u001b[K     |██▌                             | 174kB 29.2MB/s eta 0:00:01\r\u001b[K     |██▋                             | 184kB 29.2MB/s eta 0:00:01\r\u001b[K     |██▊                             | 194kB 29.2MB/s eta 0:00:01\r\u001b[K     |███                             | 204kB 29.2MB/s eta 0:00:01\r\u001b[K     |███                             | 215kB 29.2MB/s eta 0:00:01\r\u001b[K     |███▏                            | 225kB 29.2MB/s eta 0:00:01\r\u001b[K     |███▍                            | 235kB 29.2MB/s eta 0:00:01\r\u001b[K     |███▌                            | 245kB 29.2MB/s eta 0:00:01\r\u001b[K     |███▋                            | 256kB 29.2MB/s eta 0:00:01\r\u001b[K     |███▉                            | 266kB 29.2MB/s eta 0:00:01\r\u001b[K     |████                            | 276kB 29.2MB/s eta 0:00:01\r\u001b[K     |████                            | 286kB 29.2MB/s eta 0:00:01\r\u001b[K     |████▎                           | 296kB 29.2MB/s eta 0:00:01\r\u001b[K     |████▍                           | 307kB 29.2MB/s eta 0:00:01\r\u001b[K     |████▌                           | 317kB 29.2MB/s eta 0:00:01\r\u001b[K     |████▋                           | 327kB 29.2MB/s eta 0:00:01\r\u001b[K     |████▉                           | 337kB 29.2MB/s eta 0:00:01\r\u001b[K     |█████                           | 348kB 29.2MB/s eta 0:00:01\r\u001b[K     |█████                           | 358kB 29.2MB/s eta 0:00:01\r\u001b[K     |█████▎                          | 368kB 29.2MB/s eta 0:00:01\r\u001b[K     |█████▍                          | 378kB 29.2MB/s eta 0:00:01\r\u001b[K     |█████▌                          | 389kB 29.2MB/s eta 0:00:01\r\u001b[K     |█████▊                          | 399kB 29.2MB/s eta 0:00:01\r\u001b[K     |█████▉                          | 409kB 29.2MB/s eta 0:00:01\r\u001b[K     |██████                          | 419kB 29.2MB/s eta 0:00:01\r\u001b[K     |██████▏                         | 430kB 29.2MB/s eta 0:00:01\r\u001b[K     |██████▎                         | 440kB 29.2MB/s eta 0:00:01\r\u001b[K     |██████▍                         | 450kB 29.2MB/s eta 0:00:01\r\u001b[K     |██████▌                         | 460kB 29.2MB/s eta 0:00:01\r\u001b[K     |██████▊                         | 471kB 29.2MB/s eta 0:00:01\r\u001b[K     |██████▉                         | 481kB 29.2MB/s eta 0:00:01\r\u001b[K     |███████                         | 491kB 29.2MB/s eta 0:00:01\r\u001b[K     |███████▏                        | 501kB 29.2MB/s eta 0:00:01\r\u001b[K     |███████▎                        | 512kB 29.2MB/s eta 0:00:01\r\u001b[K     |███████▍                        | 522kB 29.2MB/s eta 0:00:01\r\u001b[K     |███████▋                        | 532kB 29.2MB/s eta 0:00:01\r\u001b[K     |███████▊                        | 542kB 29.2MB/s eta 0:00:01\r\u001b[K     |███████▉                        | 552kB 29.2MB/s eta 0:00:01\r\u001b[K     |████████                        | 563kB 29.2MB/s eta 0:00:01\r\u001b[K     |████████▏                       | 573kB 29.2MB/s eta 0:00:01\r\u001b[K     |████████▎                       | 583kB 29.2MB/s eta 0:00:01\r\u001b[K     |████████▌                       | 593kB 29.2MB/s eta 0:00:01\r\u001b[K     |████████▋                       | 604kB 29.2MB/s eta 0:00:01\r\u001b[K     |████████▊                       | 614kB 29.2MB/s eta 0:00:01\r\u001b[K     |████████▉                       | 624kB 29.2MB/s eta 0:00:01\r\u001b[K     |█████████                       | 634kB 29.2MB/s eta 0:00:01\r\u001b[K     |█████████▏                      | 645kB 29.2MB/s eta 0:00:01\r\u001b[K     |█████████▎                      | 655kB 29.2MB/s eta 0:00:01\r\u001b[K     |█████████▌                      | 665kB 29.2MB/s eta 0:00:01\r\u001b[K     |█████████▋                      | 675kB 29.2MB/s eta 0:00:01\r\u001b[K     |█████████▊                      | 686kB 29.2MB/s eta 0:00:01\r\u001b[K     |██████████                      | 696kB 29.2MB/s eta 0:00:01\r\u001b[K     |██████████                      | 706kB 29.2MB/s eta 0:00:01\r\u001b[K     |██████████▏                     | 716kB 29.2MB/s eta 0:00:01\r\u001b[K     |██████████▍                     | 727kB 29.2MB/s eta 0:00:01\r\u001b[K     |██████████▌                     | 737kB 29.2MB/s eta 0:00:01\r\u001b[K     |██████████▋                     | 747kB 29.2MB/s eta 0:00:01\r\u001b[K     |██████████▉                     | 757kB 29.2MB/s eta 0:00:01\r\u001b[K     |███████████                     | 768kB 29.2MB/s eta 0:00:01\r\u001b[K     |███████████                     | 778kB 29.2MB/s eta 0:00:01\r\u001b[K     |███████████▏                    | 788kB 29.2MB/s eta 0:00:01\r\u001b[K     |███████████▍                    | 798kB 29.2MB/s eta 0:00:01\r\u001b[K     |███████████▌                    | 808kB 29.2MB/s eta 0:00:01\r\u001b[K     |███████████▋                    | 819kB 29.2MB/s eta 0:00:01\r\u001b[K     |███████████▉                    | 829kB 29.2MB/s eta 0:00:01\r\u001b[K     |████████████                    | 839kB 29.2MB/s eta 0:00:01\r\u001b[K     |████████████                    | 849kB 29.2MB/s eta 0:00:01\r\u001b[K     |████████████▎                   | 860kB 29.2MB/s eta 0:00:01\r\u001b[K     |████████████▍                   | 870kB 29.2MB/s eta 0:00:01\r\u001b[K     |████████████▌                   | 880kB 29.2MB/s eta 0:00:01\r\u001b[K     |████████████▊                   | 890kB 29.2MB/s eta 0:00:01\r\u001b[K     |████████████▉                   | 901kB 29.2MB/s eta 0:00:01\r\u001b[K     |█████████████                   | 911kB 29.2MB/s eta 0:00:01\r\u001b[K     |█████████████                   | 921kB 29.2MB/s eta 0:00:01\r\u001b[K     |█████████████▎                  | 931kB 29.2MB/s eta 0:00:01\r\u001b[K     |█████████████▍                  | 942kB 29.2MB/s eta 0:00:01\r\u001b[K     |█████████████▌                  | 952kB 29.2MB/s eta 0:00:01\r\u001b[K     |█████████████▊                  | 962kB 29.2MB/s eta 0:00:01\r\u001b[K     |█████████████▉                  | 972kB 29.2MB/s eta 0:00:01\r\u001b[K     |██████████████                  | 983kB 29.2MB/s eta 0:00:01\r\u001b[K     |██████████████▏                 | 993kB 29.2MB/s eta 0:00:01\r\u001b[K     |██████████████▎                 | 1.0MB 29.2MB/s eta 0:00:01\r\u001b[K     |██████████████▍                 | 1.0MB 29.2MB/s eta 0:00:01\r\u001b[K     |██████████████▋                 | 1.0MB 29.2MB/s eta 0:00:01\r\u001b[K     |██████████████▊                 | 1.0MB 29.2MB/s eta 0:00:01\r\u001b[K     |██████████████▉                 | 1.0MB 29.2MB/s eta 0:00:01\r\u001b[K     |███████████████                 | 1.1MB 29.2MB/s eta 0:00:01\r\u001b[K     |███████████████▏                | 1.1MB 29.2MB/s eta 0:00:01\r\u001b[K     |███████████████▎                | 1.1MB 29.2MB/s eta 0:00:01\r\u001b[K     |███████████████▍                | 1.1MB 29.2MB/s eta 0:00:01\r\u001b[K     |███████████████▋                | 1.1MB 29.2MB/s eta 0:00:01\r\u001b[K     |███████████████▊                | 1.1MB 29.2MB/s eta 0:00:01\r\u001b[K     |███████████████▉                | 1.1MB 29.2MB/s eta 0:00:01\r\u001b[K     |████████████████                | 1.1MB 29.2MB/s eta 0:00:01\r\u001b[K     |████████████████▏               | 1.1MB 29.2MB/s eta 0:00:01\r\u001b[K     |████████████████▎               | 1.1MB 29.2MB/s eta 0:00:01\r\u001b[K     |████████████████▌               | 1.2MB 29.2MB/s eta 0:00:01\r\u001b[K     |████████████████▋               | 1.2MB 29.2MB/s eta 0:00:01\r\u001b[K     |████████████████▊               | 1.2MB 29.2MB/s eta 0:00:01\r\u001b[K     |█████████████████               | 1.2MB 29.2MB/s eta 0:00:01\r\u001b[K     |█████████████████               | 1.2MB 29.2MB/s eta 0:00:01\r\u001b[K     |█████████████████▏              | 1.2MB 29.2MB/s eta 0:00:01\r\u001b[K     |█████████████████▎              | 1.2MB 29.2MB/s eta 0:00:01\r\u001b[K     |█████████████████▌              | 1.2MB 29.2MB/s eta 0:00:01\r\u001b[K     |█████████████████▋              | 1.2MB 29.2MB/s eta 0:00:01\r\u001b[K     |█████████████████▊              | 1.2MB 29.2MB/s eta 0:00:01\r\u001b[K     |██████████████████              | 1.3MB 29.2MB/s eta 0:00:01\r\u001b[K     |██████████████████              | 1.3MB 29.2MB/s eta 0:00:01\r\u001b[K     |██████████████████▏             | 1.3MB 29.2MB/s eta 0:00:01\r\u001b[K     |██████████████████▍             | 1.3MB 29.2MB/s eta 0:00:01\r\u001b[K     |██████████████████▌             | 1.3MB 29.2MB/s eta 0:00:01\r\u001b[K     |██████████████████▋             | 1.3MB 29.2MB/s eta 0:00:01\r\u001b[K     |██████████████████▉             | 1.3MB 29.2MB/s eta 0:00:01\r\u001b[K     |███████████████████             | 1.3MB 29.2MB/s eta 0:00:01\r\u001b[K     |███████████████████             | 1.3MB 29.2MB/s eta 0:00:01\r\u001b[K     |███████████████████▎            | 1.4MB 29.2MB/s eta 0:00:01\r\u001b[K     |███████████████████▍            | 1.4MB 29.2MB/s eta 0:00:01\r\u001b[K     |███████████████████▌            | 1.4MB 29.2MB/s eta 0:00:01\r\u001b[K     |███████████████████▋            | 1.4MB 29.2MB/s eta 0:00:01\r\u001b[K     |███████████████████▉            | 1.4MB 29.2MB/s eta 0:00:01\r\u001b[K     |████████████████████            | 1.4MB 29.2MB/s eta 0:00:01\r\u001b[K     |████████████████████            | 1.4MB 29.2MB/s eta 0:00:01\r\u001b[K     |████████████████████▎           | 1.4MB 29.2MB/s eta 0:00:01\r\u001b[K     |████████████████████▍           | 1.4MB 29.2MB/s eta 0:00:01\r\u001b[K     |████████████████████▌           | 1.4MB 29.2MB/s eta 0:00:01\r\u001b[K     |████████████████████▊           | 1.5MB 29.2MB/s eta 0:00:01\r\u001b[K     |████████████████████▉           | 1.5MB 29.2MB/s eta 0:00:01\r\u001b[K     |█████████████████████           | 1.5MB 29.2MB/s eta 0:00:01\r\u001b[K     |█████████████████████▏          | 1.5MB 29.2MB/s eta 0:00:01\r\u001b[K     |█████████████████████▎          | 1.5MB 29.2MB/s eta 0:00:01\r\u001b[K     |█████████████████████▍          | 1.5MB 29.2MB/s eta 0:00:01\r\u001b[K     |█████████████████████▋          | 1.5MB 29.2MB/s eta 0:00:01\r\u001b[K     |█████████████████████▊          | 1.5MB 29.2MB/s eta 0:00:01\r\u001b[K     |█████████████████████▉          | 1.5MB 29.2MB/s eta 0:00:01\r\u001b[K     |██████████████████████          | 1.5MB 29.2MB/s eta 0:00:01\r\u001b[K     |██████████████████████▏         | 1.6MB 29.2MB/s eta 0:00:01\r\u001b[K     |██████████████████████▎         | 1.6MB 29.2MB/s eta 0:00:01\r\u001b[K     |██████████████████████▍         | 1.6MB 29.2MB/s eta 0:00:01\r\u001b[K     |██████████████████████▋         | 1.6MB 29.2MB/s eta 0:00:01\r\u001b[K     |██████████████████████▊         | 1.6MB 29.2MB/s eta 0:00:01\r\u001b[K     |██████████████████████▉         | 1.6MB 29.2MB/s eta 0:00:01\r\u001b[K     |███████████████████████         | 1.6MB 29.2MB/s eta 0:00:01\r\u001b[K     |███████████████████████▏        | 1.6MB 29.2MB/s eta 0:00:01\r\u001b[K     |███████████████████████▎        | 1.6MB 29.2MB/s eta 0:00:01\r\u001b[K     |███████████████████████▌        | 1.6MB 29.2MB/s eta 0:00:01\r\u001b[K     |███████████████████████▋        | 1.7MB 29.2MB/s eta 0:00:01\r\u001b[K     |███████████████████████▊        | 1.7MB 29.2MB/s eta 0:00:01\r\u001b[K     |███████████████████████▉        | 1.7MB 29.2MB/s eta 0:00:01\r\u001b[K     |████████████████████████        | 1.7MB 29.2MB/s eta 0:00:01\r\u001b[K     |████████████████████████▏       | 1.7MB 29.2MB/s eta 0:00:01\r\u001b[K     |████████████████████████▎       | 1.7MB 29.2MB/s eta 0:00:01\r\u001b[K     |████████████████████████▌       | 1.7MB 29.2MB/s eta 0:00:01\r\u001b[K     |████████████████████████▋       | 1.7MB 29.2MB/s eta 0:00:01\r\u001b[K     |████████████████████████▊       | 1.7MB 29.2MB/s eta 0:00:01\r\u001b[K     |█████████████████████████       | 1.8MB 29.2MB/s eta 0:00:01\r\u001b[K     |█████████████████████████       | 1.8MB 29.2MB/s eta 0:00:01\r\u001b[K     |█████████████████████████▏      | 1.8MB 29.2MB/s eta 0:00:01\r\u001b[K     |█████████████████████████▍      | 1.8MB 29.2MB/s eta 0:00:01\r\u001b[K     |█████████████████████████▌      | 1.8MB 29.2MB/s eta 0:00:01\r\u001b[K     |█████████████████████████▋      | 1.8MB 29.2MB/s eta 0:00:01\r\u001b[K     |█████████████████████████▉      | 1.8MB 29.2MB/s eta 0:00:01\r\u001b[K     |██████████████████████████      | 1.8MB 29.2MB/s eta 0:00:01\r\u001b[K     |██████████████████████████      | 1.8MB 29.2MB/s eta 0:00:01\r\u001b[K     |██████████████████████████▏     | 1.8MB 29.2MB/s eta 0:00:01\r\u001b[K     |██████████████████████████▍     | 1.9MB 29.2MB/s eta 0:00:01\r\u001b[K     |██████████████████████████▌     | 1.9MB 29.2MB/s eta 0:00:01\r\u001b[K     |██████████████████████████▋     | 1.9MB 29.2MB/s eta 0:00:01\r\u001b[K     |██████████████████████████▉     | 1.9MB 29.2MB/s eta 0:00:01\r\u001b[K     |███████████████████████████     | 1.9MB 29.2MB/s eta 0:00:01\r\u001b[K     |███████████████████████████     | 1.9MB 29.2MB/s eta 0:00:01\r\u001b[K     |███████████████████████████▎    | 1.9MB 29.2MB/s eta 0:00:01\r\u001b[K     |███████████████████████████▍    | 1.9MB 29.2MB/s eta 0:00:01\r\u001b[K     |███████████████████████████▌    | 1.9MB 29.2MB/s eta 0:00:01\r\u001b[K     |███████████████████████████▊    | 1.9MB 29.2MB/s eta 0:00:01\r\u001b[K     |███████████████████████████▉    | 2.0MB 29.2MB/s eta 0:00:01\r\u001b[K     |████████████████████████████    | 2.0MB 29.2MB/s eta 0:00:01\r\u001b[K     |████████████████████████████▏   | 2.0MB 29.2MB/s eta 0:00:01\r\u001b[K     |████████████████████████████▎   | 2.0MB 29.2MB/s eta 0:00:01\r\u001b[K     |████████████████████████████▍   | 2.0MB 29.2MB/s eta 0:00:01\r\u001b[K     |████████████████████████████▌   | 2.0MB 29.2MB/s eta 0:00:01\r\u001b[K     |████████████████████████████▊   | 2.0MB 29.2MB/s eta 0:00:01\r\u001b[K     |████████████████████████████▉   | 2.0MB 29.2MB/s eta 0:00:01\r\u001b[K     |█████████████████████████████   | 2.0MB 29.2MB/s eta 0:00:01\r\u001b[K     |█████████████████████████████▏  | 2.0MB 29.2MB/s eta 0:00:01\r\u001b[K     |█████████████████████████████▎  | 2.1MB 29.2MB/s eta 0:00:01\r\u001b[K     |█████████████████████████████▍  | 2.1MB 29.2MB/s eta 0:00:01\r\u001b[K     |█████████████████████████████▋  | 2.1MB 29.2MB/s eta 0:00:01\r\u001b[K     |█████████████████████████████▊  | 2.1MB 29.2MB/s eta 0:00:01\r\u001b[K     |█████████████████████████████▉  | 2.1MB 29.2MB/s eta 0:00:01\r\u001b[K     |██████████████████████████████  | 2.1MB 29.2MB/s eta 0:00:01\r\u001b[K     |██████████████████████████████▏ | 2.1MB 29.2MB/s eta 0:00:01\r\u001b[K     |██████████████████████████████▎ | 2.1MB 29.2MB/s eta 0:00:01\r\u001b[K     |██████████████████████████████▍ | 2.1MB 29.2MB/s eta 0:00:01\r\u001b[K     |██████████████████████████████▋ | 2.2MB 29.2MB/s eta 0:00:01\r\u001b[K     |██████████████████████████████▊ | 2.2MB 29.2MB/s eta 0:00:01\r\u001b[K     |██████████████████████████████▉ | 2.2MB 29.2MB/s eta 0:00:01\r\u001b[K     |███████████████████████████████ | 2.2MB 29.2MB/s eta 0:00:01\r\u001b[K     |███████████████████████████████▏| 2.2MB 29.2MB/s eta 0:00:01\r\u001b[K     |███████████████████████████████▎| 2.2MB 29.2MB/s eta 0:00:01\r\u001b[K     |███████████████████████████████▌| 2.2MB 29.2MB/s eta 0:00:01\r\u001b[K     |███████████████████████████████▋| 2.2MB 29.2MB/s eta 0:00:01\r\u001b[K     |███████████████████████████████▊| 2.2MB 29.2MB/s eta 0:00:01\r\u001b[K     |████████████████████████████████| 2.2MB 29.2MB/s eta 0:00:01\r\u001b[K     |████████████████████████████████| 2.3MB 29.2MB/s \n",
            "\u001b[?25hRequirement already satisfied: requests in /usr/local/lib/python3.7/dist-packages (from transformers) (2.23.0)\n",
            "Requirement already satisfied: tqdm>=4.27 in /usr/local/lib/python3.7/dist-packages (from transformers) (4.41.1)\n",
            "Requirement already satisfied: filelock in /usr/local/lib/python3.7/dist-packages (from transformers) (3.0.12)\n",
            "Collecting tokenizers<0.11,>=0.10.1\n",
            "\u001b[?25l  Downloading https://files.pythonhosted.org/packages/d4/e2/df3543e8ffdab68f5acc73f613de9c2b155ac47f162e725dcac87c521c11/tokenizers-0.10.3-cp37-cp37m-manylinux_2_5_x86_64.manylinux1_x86_64.manylinux_2_12_x86_64.manylinux2010_x86_64.whl (3.3MB)\n",
            "\u001b[K     |████████████████████████████████| 3.3MB 46.5MB/s \n",
            "\u001b[?25hRequirement already satisfied: packaging in /usr/local/lib/python3.7/dist-packages (from transformers) (20.9)\n",
            "Requirement already satisfied: importlib-metadata; python_version < \"3.8\" in /usr/local/lib/python3.7/dist-packages (from transformers) (4.0.1)\n",
            "Collecting sacremoses\n",
            "\u001b[?25l  Downloading https://files.pythonhosted.org/packages/75/ee/67241dc87f266093c533a2d4d3d69438e57d7a90abb216fa076e7d475d4a/sacremoses-0.0.45-py3-none-any.whl (895kB)\n",
            "\u001b[K     |████████████████████████████████| 901kB 41.9MB/s \n",
            "\u001b[?25hRequirement already satisfied: regex!=2019.12.17 in /usr/local/lib/python3.7/dist-packages (from transformers) (2019.12.20)\n",
            "Collecting huggingface-hub==0.0.8\n",
            "  Downloading https://files.pythonhosted.org/packages/a1/88/7b1e45720ecf59c6c6737ff332f41c955963090a18e72acbcbeac6b25e86/huggingface_hub-0.0.8-py3-none-any.whl\n",
            "Requirement already satisfied: numpy>=1.17 in /usr/local/lib/python3.7/dist-packages (from transformers) (1.19.5)\n",
            "Requirement already satisfied: urllib3!=1.25.0,!=1.25.1,<1.26,>=1.21.1 in /usr/local/lib/python3.7/dist-packages (from requests->transformers) (1.24.3)\n",
            "Requirement already satisfied: chardet<4,>=3.0.2 in /usr/local/lib/python3.7/dist-packages (from requests->transformers) (3.0.4)\n",
            "Requirement already satisfied: idna<3,>=2.5 in /usr/local/lib/python3.7/dist-packages (from requests->transformers) (2.10)\n",
            "Requirement already satisfied: certifi>=2017.4.17 in /usr/local/lib/python3.7/dist-packages (from requests->transformers) (2020.12.5)\n",
            "Requirement already satisfied: pyparsing>=2.0.2 in /usr/local/lib/python3.7/dist-packages (from packaging->transformers) (2.4.7)\n",
            "Requirement already satisfied: zipp>=0.5 in /usr/local/lib/python3.7/dist-packages (from importlib-metadata; python_version < \"3.8\"->transformers) (3.4.1)\n",
            "Requirement already satisfied: typing-extensions>=3.6.4; python_version < \"3.8\" in /usr/local/lib/python3.7/dist-packages (from importlib-metadata; python_version < \"3.8\"->transformers) (3.7.4.3)\n",
            "Requirement already satisfied: joblib in /usr/local/lib/python3.7/dist-packages (from sacremoses->transformers) (1.0.1)\n",
            "Requirement already satisfied: six in /usr/local/lib/python3.7/dist-packages (from sacremoses->transformers) (1.15.0)\n",
            "Requirement already satisfied: click in /usr/local/lib/python3.7/dist-packages (from sacremoses->transformers) (7.1.2)\n",
            "Installing collected packages: tokenizers, sacremoses, huggingface-hub, transformers\n",
            "Successfully installed huggingface-hub-0.0.8 sacremoses-0.0.45 tokenizers-0.10.3 transformers-4.6.1\n"
          ],
          "name": "stdout"
        }
      ]
    },
    {
      "cell_type": "markdown",
      "metadata": {
        "id": "s5cIShxktnMv"
      },
      "source": [
        "Now we need to load the dataset from a Google sheet. To run the below yourself, save a copy of the Claudette dataset to a Google drive you have access, accede to the (unfair?!) Google terms of service for their SDK, and replace the URL with your own."
      ]
    },
    {
      "cell_type": "code",
      "metadata": {
        "id": "66IGkPv26c1X"
      },
      "source": [
        "import pandas as pd\n",
        "from gspread_dataframe import get_as_dataframe, set_with_dataframe\n",
        "from google.colab import auth\n",
        "auth.authenticate_user()\n",
        "import gspread\n",
        "from oauth2client.client import GoogleCredentials\n",
        "gc = gspread.authorize(GoogleCredentials.get_application_default())"
      ],
      "execution_count": 2,
      "outputs": []
    },
    {
      "cell_type": "code",
      "metadata": {
        "id": "vj4OPL4Bmr9A"
      },
      "source": [
        "gs_tos = gc.open_by_url('https://docs.google.com/spreadsheets/d/17cnlzyK8kZjaRhTkfgtYM1IXdw03tZxqRzFbx_8agoc/edit#gid=2143700408')\n",
        "tos_data = get_as_dataframe(gs_tos.sheet1)\n",
        "tos_data = tos_data.dropna(how='all', axis='columns')\n",
        "tos_data = tos_data.dropna(how='all', axis='rows')"
      ],
      "execution_count": 3,
      "outputs": []
    },
    {
      "cell_type": "markdown",
      "metadata": {
        "id": "gr2weIEPsl_l"
      },
      "source": [
        "Now we'll import and download a BERT tokenizer and model and initialize them on the GPU (if it's available)"
      ]
    },
    {
      "cell_type": "code",
      "metadata": {
        "colab": {
          "base_uri": "https://localhost:8080/",
          "height": 381,
          "referenced_widgets": [
            "698ab8ef86764afd87556a19a76a0d35",
            "feadddd7589c45408328d5e81d7be9d1",
            "3ffa7c85e3b54222b78fdd6f49ef68a8",
            "52e2da01d40343aca060f03a5bb2214a",
            "1bcd55aa75ff4799abb53dc0a1e130b4",
            "b0d39172270c462fb67710388cbe25f0",
            "3d96fee7f7c84c8597e597d00f552725",
            "2c7799252d004ac5a1695d3d3a7a8fff",
            "78526ed8e93644ccab4a32443abdd3a3",
            "b5930bfe7afa4c2fb22ed5149260e7c4",
            "0c9738b636314efcbb773ca077c38761",
            "326fcc9d3dee4dbcb93d73a4936f39cd",
            "8967fd1310cc44bfbbd3238d2f650bf0",
            "c2e71b258e9d40819743e063ef5b36cd",
            "382482232fcd4faba62172faa32e5e46",
            "7da6cedd8bbe494493ada0566b2c46ed",
            "a3f2889b5528401681ef552bb01791a0",
            "c86dba56b2bb4ec29ffc5acfeab54dd5",
            "c2e0c5b3f6d34b4cb55719da44b6662e",
            "0909f831fe11472ca44cd3b723861140",
            "f7d6904684954ccaa6f1fb215c8b7c38",
            "49ff6719dd1e42f1891ec4ca9ab29d55",
            "d20805d5052742d4950572958bcb8e30",
            "cca34422963b46199abb8ab7c87eeefd",
            "1723c9c2c1e1427cb494a4ff51e25851",
            "9691ca53007c42c5bb3c0ef816919f52",
            "a59a0b4a8e134c5889d8a0d06a8624c3",
            "1a74949e066f4d4fbcfa2ee01b93b888",
            "c6e2127157284d05a5202260ef545e9b",
            "b81a9f9fee3041b7ad125f4c1e2338a1",
            "53687a1766a949919c7a5c144b13cdd3",
            "ac4caeec113d481abcd741f8a07b5093",
            "e80fae014c8746a28616d7b7ef5e8d03",
            "d603aa38787045f4bd5cdf17c4649da0",
            "3df77cde32bd44679340aabed47ffff2",
            "e7def94e8ad543e3a30332c32f14f176",
            "6352ffd12b3d459f8d1a830a771dd5c4",
            "bf9293d7d2bd4836b262fbfc3b6f07ee",
            "dfa3b9e44d96435aac4b99b961e6e1db",
            "37820d03d9434dc1956e2c5d797e1741"
          ]
        },
        "id": "xHY9Dsu9rAKk",
        "outputId": "fbd8a6fd-de3b-44eb-f8ee-3de8f41be57e"
      },
      "source": [
        "from transformers import BertTokenizer, BertForSequenceClassification\n",
        "import torch\n",
        "\n",
        "device = torch.device('cuda') if torch.cuda.is_available() else torch.device('cpu')\n",
        "tokenizer = BertTokenizer.from_pretrained('bert-base-uncased', do_lower_case=True)\n",
        "model = BertForSequenceClassification.from_pretrained('bert-base-uncased').to(device)"
      ],
      "execution_count": 4,
      "outputs": [
        {
          "output_type": "display_data",
          "data": {
            "application/vnd.jupyter.widget-view+json": {
              "model_id": "698ab8ef86764afd87556a19a76a0d35",
              "version_minor": 0,
              "version_major": 2
            },
            "text/plain": [
              "HBox(children=(FloatProgress(value=0.0, description='Downloading', max=231508.0, style=ProgressStyle(descripti…"
            ]
          },
          "metadata": {
            "tags": []
          }
        },
        {
          "output_type": "stream",
          "text": [
            "\n"
          ],
          "name": "stdout"
        },
        {
          "output_type": "display_data",
          "data": {
            "application/vnd.jupyter.widget-view+json": {
              "model_id": "78526ed8e93644ccab4a32443abdd3a3",
              "version_minor": 0,
              "version_major": 2
            },
            "text/plain": [
              "HBox(children=(FloatProgress(value=0.0, description='Downloading', max=28.0, style=ProgressStyle(description_w…"
            ]
          },
          "metadata": {
            "tags": []
          }
        },
        {
          "output_type": "stream",
          "text": [
            "\n"
          ],
          "name": "stdout"
        },
        {
          "output_type": "display_data",
          "data": {
            "application/vnd.jupyter.widget-view+json": {
              "model_id": "a3f2889b5528401681ef552bb01791a0",
              "version_minor": 0,
              "version_major": 2
            },
            "text/plain": [
              "HBox(children=(FloatProgress(value=0.0, description='Downloading', max=466062.0, style=ProgressStyle(descripti…"
            ]
          },
          "metadata": {
            "tags": []
          }
        },
        {
          "output_type": "stream",
          "text": [
            "\n"
          ],
          "name": "stdout"
        },
        {
          "output_type": "display_data",
          "data": {
            "application/vnd.jupyter.widget-view+json": {
              "model_id": "1723c9c2c1e1427cb494a4ff51e25851",
              "version_minor": 0,
              "version_major": 2
            },
            "text/plain": [
              "HBox(children=(FloatProgress(value=0.0, description='Downloading', max=570.0, style=ProgressStyle(description_…"
            ]
          },
          "metadata": {
            "tags": []
          }
        },
        {
          "output_type": "stream",
          "text": [
            "\n"
          ],
          "name": "stdout"
        },
        {
          "output_type": "display_data",
          "data": {
            "application/vnd.jupyter.widget-view+json": {
              "model_id": "e80fae014c8746a28616d7b7ef5e8d03",
              "version_minor": 0,
              "version_major": 2
            },
            "text/plain": [
              "HBox(children=(FloatProgress(value=0.0, description='Downloading', max=440473133.0, style=ProgressStyle(descri…"
            ]
          },
          "metadata": {
            "tags": []
          }
        },
        {
          "output_type": "stream",
          "text": [
            "\n"
          ],
          "name": "stdout"
        },
        {
          "output_type": "stream",
          "text": [
            "Some weights of the model checkpoint at bert-base-uncased were not used when initializing BertForSequenceClassification: ['cls.predictions.decoder.weight', 'cls.predictions.transform.LayerNorm.weight', 'cls.predictions.transform.dense.weight', 'cls.seq_relationship.bias', 'cls.predictions.transform.LayerNorm.bias', 'cls.predictions.bias', 'cls.predictions.transform.dense.bias', 'cls.seq_relationship.weight']\n",
            "- This IS expected if you are initializing BertForSequenceClassification from the checkpoint of a model trained on another task or with another architecture (e.g. initializing a BertForSequenceClassification model from a BertForPreTraining model).\n",
            "- This IS NOT expected if you are initializing BertForSequenceClassification from the checkpoint of a model that you expect to be exactly identical (initializing a BertForSequenceClassification model from a BertForSequenceClassification model).\n",
            "Some weights of BertForSequenceClassification were not initialized from the model checkpoint at bert-base-uncased and are newly initialized: ['classifier.bias', 'classifier.weight']\n",
            "You should probably TRAIN this model on a down-stream task to be able to use it for predictions and inference.\n"
          ],
          "name": "stderr"
        }
      ]
    },
    {
      "cell_type": "code",
      "metadata": {
        "colab": {
          "base_uri": "https://localhost:8080/"
        },
        "id": "lqDGk9sArdoE",
        "outputId": "326015a3-7610-4c50-902e-209d3d246912"
      },
      "source": [
        "print(device)\n",
        "model.eval()"
      ],
      "execution_count": 5,
      "outputs": [
        {
          "output_type": "stream",
          "text": [
            "cuda\n"
          ],
          "name": "stdout"
        },
        {
          "output_type": "execute_result",
          "data": {
            "text/plain": [
              "BertForSequenceClassification(\n",
              "  (bert): BertModel(\n",
              "    (embeddings): BertEmbeddings(\n",
              "      (word_embeddings): Embedding(30522, 768, padding_idx=0)\n",
              "      (position_embeddings): Embedding(512, 768)\n",
              "      (token_type_embeddings): Embedding(2, 768)\n",
              "      (LayerNorm): LayerNorm((768,), eps=1e-12, elementwise_affine=True)\n",
              "      (dropout): Dropout(p=0.1, inplace=False)\n",
              "    )\n",
              "    (encoder): BertEncoder(\n",
              "      (layer): ModuleList(\n",
              "        (0): BertLayer(\n",
              "          (attention): BertAttention(\n",
              "            (self): BertSelfAttention(\n",
              "              (query): Linear(in_features=768, out_features=768, bias=True)\n",
              "              (key): Linear(in_features=768, out_features=768, bias=True)\n",
              "              (value): Linear(in_features=768, out_features=768, bias=True)\n",
              "              (dropout): Dropout(p=0.1, inplace=False)\n",
              "            )\n",
              "            (output): BertSelfOutput(\n",
              "              (dense): Linear(in_features=768, out_features=768, bias=True)\n",
              "              (LayerNorm): LayerNorm((768,), eps=1e-12, elementwise_affine=True)\n",
              "              (dropout): Dropout(p=0.1, inplace=False)\n",
              "            )\n",
              "          )\n",
              "          (intermediate): BertIntermediate(\n",
              "            (dense): Linear(in_features=768, out_features=3072, bias=True)\n",
              "          )\n",
              "          (output): BertOutput(\n",
              "            (dense): Linear(in_features=3072, out_features=768, bias=True)\n",
              "            (LayerNorm): LayerNorm((768,), eps=1e-12, elementwise_affine=True)\n",
              "            (dropout): Dropout(p=0.1, inplace=False)\n",
              "          )\n",
              "        )\n",
              "        (1): BertLayer(\n",
              "          (attention): BertAttention(\n",
              "            (self): BertSelfAttention(\n",
              "              (query): Linear(in_features=768, out_features=768, bias=True)\n",
              "              (key): Linear(in_features=768, out_features=768, bias=True)\n",
              "              (value): Linear(in_features=768, out_features=768, bias=True)\n",
              "              (dropout): Dropout(p=0.1, inplace=False)\n",
              "            )\n",
              "            (output): BertSelfOutput(\n",
              "              (dense): Linear(in_features=768, out_features=768, bias=True)\n",
              "              (LayerNorm): LayerNorm((768,), eps=1e-12, elementwise_affine=True)\n",
              "              (dropout): Dropout(p=0.1, inplace=False)\n",
              "            )\n",
              "          )\n",
              "          (intermediate): BertIntermediate(\n",
              "            (dense): Linear(in_features=768, out_features=3072, bias=True)\n",
              "          )\n",
              "          (output): BertOutput(\n",
              "            (dense): Linear(in_features=3072, out_features=768, bias=True)\n",
              "            (LayerNorm): LayerNorm((768,), eps=1e-12, elementwise_affine=True)\n",
              "            (dropout): Dropout(p=0.1, inplace=False)\n",
              "          )\n",
              "        )\n",
              "        (2): BertLayer(\n",
              "          (attention): BertAttention(\n",
              "            (self): BertSelfAttention(\n",
              "              (query): Linear(in_features=768, out_features=768, bias=True)\n",
              "              (key): Linear(in_features=768, out_features=768, bias=True)\n",
              "              (value): Linear(in_features=768, out_features=768, bias=True)\n",
              "              (dropout): Dropout(p=0.1, inplace=False)\n",
              "            )\n",
              "            (output): BertSelfOutput(\n",
              "              (dense): Linear(in_features=768, out_features=768, bias=True)\n",
              "              (LayerNorm): LayerNorm((768,), eps=1e-12, elementwise_affine=True)\n",
              "              (dropout): Dropout(p=0.1, inplace=False)\n",
              "            )\n",
              "          )\n",
              "          (intermediate): BertIntermediate(\n",
              "            (dense): Linear(in_features=768, out_features=3072, bias=True)\n",
              "          )\n",
              "          (output): BertOutput(\n",
              "            (dense): Linear(in_features=3072, out_features=768, bias=True)\n",
              "            (LayerNorm): LayerNorm((768,), eps=1e-12, elementwise_affine=True)\n",
              "            (dropout): Dropout(p=0.1, inplace=False)\n",
              "          )\n",
              "        )\n",
              "        (3): BertLayer(\n",
              "          (attention): BertAttention(\n",
              "            (self): BertSelfAttention(\n",
              "              (query): Linear(in_features=768, out_features=768, bias=True)\n",
              "              (key): Linear(in_features=768, out_features=768, bias=True)\n",
              "              (value): Linear(in_features=768, out_features=768, bias=True)\n",
              "              (dropout): Dropout(p=0.1, inplace=False)\n",
              "            )\n",
              "            (output): BertSelfOutput(\n",
              "              (dense): Linear(in_features=768, out_features=768, bias=True)\n",
              "              (LayerNorm): LayerNorm((768,), eps=1e-12, elementwise_affine=True)\n",
              "              (dropout): Dropout(p=0.1, inplace=False)\n",
              "            )\n",
              "          )\n",
              "          (intermediate): BertIntermediate(\n",
              "            (dense): Linear(in_features=768, out_features=3072, bias=True)\n",
              "          )\n",
              "          (output): BertOutput(\n",
              "            (dense): Linear(in_features=3072, out_features=768, bias=True)\n",
              "            (LayerNorm): LayerNorm((768,), eps=1e-12, elementwise_affine=True)\n",
              "            (dropout): Dropout(p=0.1, inplace=False)\n",
              "          )\n",
              "        )\n",
              "        (4): BertLayer(\n",
              "          (attention): BertAttention(\n",
              "            (self): BertSelfAttention(\n",
              "              (query): Linear(in_features=768, out_features=768, bias=True)\n",
              "              (key): Linear(in_features=768, out_features=768, bias=True)\n",
              "              (value): Linear(in_features=768, out_features=768, bias=True)\n",
              "              (dropout): Dropout(p=0.1, inplace=False)\n",
              "            )\n",
              "            (output): BertSelfOutput(\n",
              "              (dense): Linear(in_features=768, out_features=768, bias=True)\n",
              "              (LayerNorm): LayerNorm((768,), eps=1e-12, elementwise_affine=True)\n",
              "              (dropout): Dropout(p=0.1, inplace=False)\n",
              "            )\n",
              "          )\n",
              "          (intermediate): BertIntermediate(\n",
              "            (dense): Linear(in_features=768, out_features=3072, bias=True)\n",
              "          )\n",
              "          (output): BertOutput(\n",
              "            (dense): Linear(in_features=3072, out_features=768, bias=True)\n",
              "            (LayerNorm): LayerNorm((768,), eps=1e-12, elementwise_affine=True)\n",
              "            (dropout): Dropout(p=0.1, inplace=False)\n",
              "          )\n",
              "        )\n",
              "        (5): BertLayer(\n",
              "          (attention): BertAttention(\n",
              "            (self): BertSelfAttention(\n",
              "              (query): Linear(in_features=768, out_features=768, bias=True)\n",
              "              (key): Linear(in_features=768, out_features=768, bias=True)\n",
              "              (value): Linear(in_features=768, out_features=768, bias=True)\n",
              "              (dropout): Dropout(p=0.1, inplace=False)\n",
              "            )\n",
              "            (output): BertSelfOutput(\n",
              "              (dense): Linear(in_features=768, out_features=768, bias=True)\n",
              "              (LayerNorm): LayerNorm((768,), eps=1e-12, elementwise_affine=True)\n",
              "              (dropout): Dropout(p=0.1, inplace=False)\n",
              "            )\n",
              "          )\n",
              "          (intermediate): BertIntermediate(\n",
              "            (dense): Linear(in_features=768, out_features=3072, bias=True)\n",
              "          )\n",
              "          (output): BertOutput(\n",
              "            (dense): Linear(in_features=3072, out_features=768, bias=True)\n",
              "            (LayerNorm): LayerNorm((768,), eps=1e-12, elementwise_affine=True)\n",
              "            (dropout): Dropout(p=0.1, inplace=False)\n",
              "          )\n",
              "        )\n",
              "        (6): BertLayer(\n",
              "          (attention): BertAttention(\n",
              "            (self): BertSelfAttention(\n",
              "              (query): Linear(in_features=768, out_features=768, bias=True)\n",
              "              (key): Linear(in_features=768, out_features=768, bias=True)\n",
              "              (value): Linear(in_features=768, out_features=768, bias=True)\n",
              "              (dropout): Dropout(p=0.1, inplace=False)\n",
              "            )\n",
              "            (output): BertSelfOutput(\n",
              "              (dense): Linear(in_features=768, out_features=768, bias=True)\n",
              "              (LayerNorm): LayerNorm((768,), eps=1e-12, elementwise_affine=True)\n",
              "              (dropout): Dropout(p=0.1, inplace=False)\n",
              "            )\n",
              "          )\n",
              "          (intermediate): BertIntermediate(\n",
              "            (dense): Linear(in_features=768, out_features=3072, bias=True)\n",
              "          )\n",
              "          (output): BertOutput(\n",
              "            (dense): Linear(in_features=3072, out_features=768, bias=True)\n",
              "            (LayerNorm): LayerNorm((768,), eps=1e-12, elementwise_affine=True)\n",
              "            (dropout): Dropout(p=0.1, inplace=False)\n",
              "          )\n",
              "        )\n",
              "        (7): BertLayer(\n",
              "          (attention): BertAttention(\n",
              "            (self): BertSelfAttention(\n",
              "              (query): Linear(in_features=768, out_features=768, bias=True)\n",
              "              (key): Linear(in_features=768, out_features=768, bias=True)\n",
              "              (value): Linear(in_features=768, out_features=768, bias=True)\n",
              "              (dropout): Dropout(p=0.1, inplace=False)\n",
              "            )\n",
              "            (output): BertSelfOutput(\n",
              "              (dense): Linear(in_features=768, out_features=768, bias=True)\n",
              "              (LayerNorm): LayerNorm((768,), eps=1e-12, elementwise_affine=True)\n",
              "              (dropout): Dropout(p=0.1, inplace=False)\n",
              "            )\n",
              "          )\n",
              "          (intermediate): BertIntermediate(\n",
              "            (dense): Linear(in_features=768, out_features=3072, bias=True)\n",
              "          )\n",
              "          (output): BertOutput(\n",
              "            (dense): Linear(in_features=3072, out_features=768, bias=True)\n",
              "            (LayerNorm): LayerNorm((768,), eps=1e-12, elementwise_affine=True)\n",
              "            (dropout): Dropout(p=0.1, inplace=False)\n",
              "          )\n",
              "        )\n",
              "        (8): BertLayer(\n",
              "          (attention): BertAttention(\n",
              "            (self): BertSelfAttention(\n",
              "              (query): Linear(in_features=768, out_features=768, bias=True)\n",
              "              (key): Linear(in_features=768, out_features=768, bias=True)\n",
              "              (value): Linear(in_features=768, out_features=768, bias=True)\n",
              "              (dropout): Dropout(p=0.1, inplace=False)\n",
              "            )\n",
              "            (output): BertSelfOutput(\n",
              "              (dense): Linear(in_features=768, out_features=768, bias=True)\n",
              "              (LayerNorm): LayerNorm((768,), eps=1e-12, elementwise_affine=True)\n",
              "              (dropout): Dropout(p=0.1, inplace=False)\n",
              "            )\n",
              "          )\n",
              "          (intermediate): BertIntermediate(\n",
              "            (dense): Linear(in_features=768, out_features=3072, bias=True)\n",
              "          )\n",
              "          (output): BertOutput(\n",
              "            (dense): Linear(in_features=3072, out_features=768, bias=True)\n",
              "            (LayerNorm): LayerNorm((768,), eps=1e-12, elementwise_affine=True)\n",
              "            (dropout): Dropout(p=0.1, inplace=False)\n",
              "          )\n",
              "        )\n",
              "        (9): BertLayer(\n",
              "          (attention): BertAttention(\n",
              "            (self): BertSelfAttention(\n",
              "              (query): Linear(in_features=768, out_features=768, bias=True)\n",
              "              (key): Linear(in_features=768, out_features=768, bias=True)\n",
              "              (value): Linear(in_features=768, out_features=768, bias=True)\n",
              "              (dropout): Dropout(p=0.1, inplace=False)\n",
              "            )\n",
              "            (output): BertSelfOutput(\n",
              "              (dense): Linear(in_features=768, out_features=768, bias=True)\n",
              "              (LayerNorm): LayerNorm((768,), eps=1e-12, elementwise_affine=True)\n",
              "              (dropout): Dropout(p=0.1, inplace=False)\n",
              "            )\n",
              "          )\n",
              "          (intermediate): BertIntermediate(\n",
              "            (dense): Linear(in_features=768, out_features=3072, bias=True)\n",
              "          )\n",
              "          (output): BertOutput(\n",
              "            (dense): Linear(in_features=3072, out_features=768, bias=True)\n",
              "            (LayerNorm): LayerNorm((768,), eps=1e-12, elementwise_affine=True)\n",
              "            (dropout): Dropout(p=0.1, inplace=False)\n",
              "          )\n",
              "        )\n",
              "        (10): BertLayer(\n",
              "          (attention): BertAttention(\n",
              "            (self): BertSelfAttention(\n",
              "              (query): Linear(in_features=768, out_features=768, bias=True)\n",
              "              (key): Linear(in_features=768, out_features=768, bias=True)\n",
              "              (value): Linear(in_features=768, out_features=768, bias=True)\n",
              "              (dropout): Dropout(p=0.1, inplace=False)\n",
              "            )\n",
              "            (output): BertSelfOutput(\n",
              "              (dense): Linear(in_features=768, out_features=768, bias=True)\n",
              "              (LayerNorm): LayerNorm((768,), eps=1e-12, elementwise_affine=True)\n",
              "              (dropout): Dropout(p=0.1, inplace=False)\n",
              "            )\n",
              "          )\n",
              "          (intermediate): BertIntermediate(\n",
              "            (dense): Linear(in_features=768, out_features=3072, bias=True)\n",
              "          )\n",
              "          (output): BertOutput(\n",
              "            (dense): Linear(in_features=3072, out_features=768, bias=True)\n",
              "            (LayerNorm): LayerNorm((768,), eps=1e-12, elementwise_affine=True)\n",
              "            (dropout): Dropout(p=0.1, inplace=False)\n",
              "          )\n",
              "        )\n",
              "        (11): BertLayer(\n",
              "          (attention): BertAttention(\n",
              "            (self): BertSelfAttention(\n",
              "              (query): Linear(in_features=768, out_features=768, bias=True)\n",
              "              (key): Linear(in_features=768, out_features=768, bias=True)\n",
              "              (value): Linear(in_features=768, out_features=768, bias=True)\n",
              "              (dropout): Dropout(p=0.1, inplace=False)\n",
              "            )\n",
              "            (output): BertSelfOutput(\n",
              "              (dense): Linear(in_features=768, out_features=768, bias=True)\n",
              "              (LayerNorm): LayerNorm((768,), eps=1e-12, elementwise_affine=True)\n",
              "              (dropout): Dropout(p=0.1, inplace=False)\n",
              "            )\n",
              "          )\n",
              "          (intermediate): BertIntermediate(\n",
              "            (dense): Linear(in_features=768, out_features=3072, bias=True)\n",
              "          )\n",
              "          (output): BertOutput(\n",
              "            (dense): Linear(in_features=3072, out_features=768, bias=True)\n",
              "            (LayerNorm): LayerNorm((768,), eps=1e-12, elementwise_affine=True)\n",
              "            (dropout): Dropout(p=0.1, inplace=False)\n",
              "          )\n",
              "        )\n",
              "      )\n",
              "    )\n",
              "    (pooler): BertPooler(\n",
              "      (dense): Linear(in_features=768, out_features=768, bias=True)\n",
              "      (activation): Tanh()\n",
              "    )\n",
              "  )\n",
              "  (dropout): Dropout(p=0.1, inplace=False)\n",
              "  (classifier): Linear(in_features=768, out_features=2, bias=True)\n",
              ")"
            ]
          },
          "metadata": {
            "tags": []
          },
          "execution_count": 5
        }
      ]
    },
    {
      "cell_type": "markdown",
      "metadata": {
        "id": "PZs_upijiW8T"
      },
      "source": [
        "Because of the size of the dataset and limitations on GPU usage, I'm going to stick to classical ML methods for classification. I still want to use BERT embeddings, so luckily we've got the CLS token! This is a 'special token' that BERT uses to represent the sentence as a whole and in its own context."
      ]
    },
    {
      "cell_type": "code",
      "metadata": {
        "colab": {
          "base_uri": "https://localhost:8080/"
        },
        "id": "50169ujYrgxD",
        "outputId": "9c1ad134-6d0d-4062-b442-602eaac87e3a"
      },
      "source": [
        "import numpy as np\n",
        "from math import floor\n",
        "import time\n",
        "\n",
        "batch_size=12\n",
        "max_seq_length=512\n",
        "\n",
        "def featurize(tokenizer, model, input_sents, batch_size, device):\n",
        "  features = np.array([])\n",
        "  #features = features.reshape((0, 768))\n",
        "  sent_list = [s.lower() for s in input_sents]\n",
        "\n",
        "  num_batches = floor(len(input_sents) / batch_size)\n",
        "\n",
        "  for i in range(num_batches):\n",
        "    try:\n",
        "      encoding = tokenizer(sent_list[i*batch_size:(i+1)*batch_size], max_length=max_seq_length,\n",
        "                           truncation=True, padding='max_length', return_tensors='pt',\n",
        "                           add_special_tokens=True).to(device)\n",
        "      \n",
        "      outputs = model(**encoding)\n",
        "      outputs = outputs[0].cpu().detach().numpy()\n",
        "      features = np.concatenate((features, outputs[:,0]))  #grab CLS tokens\n",
        "\n",
        "    except Exception as e:\n",
        "      print(e)\n",
        "      pass\n",
        "  #process final batch\n",
        "  try:\n",
        "    final_index = (len(sent_list) % batch_size) * -1\n",
        "    encoding = tokenizer(sent_list[final_index:], max_length=max_seq_length,\n",
        "                           truncation=True, padding='max_length', return_tensors='pt',\n",
        "                           add_special_tokens=True).to(device)\n",
        "    outputs = model(**encoding)\n",
        "    outputs = outputs[0].cpu().detach().numpy()\n",
        "    features = np.concatenate((features, outputs[:,0]))  #grab CLS tokens\n",
        "  except Exception as e:\n",
        "    print(e)\n",
        "    pass\n",
        "  return features\n",
        "\n",
        "start = time.time()\n",
        "\n",
        "cls_tokens = featurize(tokenizer, model, tos_data.sentence1, batch_size, device)\n",
        "\n",
        "stop = time.time()\n",
        "\n",
        "print('CLS token generation took {} seconds'.format(stop - start))"
      ],
      "execution_count": 6,
      "outputs": [
        {
          "output_type": "stream",
          "text": [
            "CLS token generation took 327.43698287010193 seconds\n"
          ],
          "name": "stdout"
        }
      ]
    },
    {
      "cell_type": "code",
      "metadata": {
        "id": "jzDqBH32koOp"
      },
      "source": [
        "tos_data['cls_tokens'] = pd.Series(cls_tokens)"
      ],
      "execution_count": 7,
      "outputs": []
    },
    {
      "cell_type": "code",
      "metadata": {
        "id": "CWGMlc-nanzC"
      },
      "source": [
        "from sklearn.metrics import accuracy_score, precision_score, recall_score, f1_score\n",
        "\n",
        "def print_measures(y_test, y_hats):\n",
        "  print('Accuracy:  {}'.format(accuracy_score(y_test, y_hats)))\n",
        "  print('Precision: {}'.format(precision_score(y_test, y_hats)))\n",
        "  print('Recall:    {}'.format(recall_score(y_test, y_hats)))\n",
        "  print('F1 Score:  {}'.format(f1_score(y_test, y_hats)))"
      ],
      "execution_count": 8,
      "outputs": []
    },
    {
      "cell_type": "markdown",
      "metadata": {
        "id": "bNZLE8fQb6Iw"
      },
      "source": [
        "Now to see what we can get from this BERT modeling. The paper's authors use full Leave One Out evaluation, but in the interest of time I'll try a 20% hold out as a first pass"
      ]
    },
    {
      "cell_type": "code",
      "metadata": {
        "colab": {
          "base_uri": "https://localhost:8080/"
        },
        "id": "wWcAdEPPWRIn",
        "outputId": "91cb9efa-4fff-4fa8-eafc-d7e81c77e434"
      },
      "source": [
        "from sklearn.ensemble import RandomForestClassifier\n",
        "from sklearn.model_selection import train_test_split\n",
        "\n",
        "X,y = tos_data.cls_tokens.to_numpy().reshape(-1,1), tos_data.label.to_numpy()\n",
        "x_train, x_test, y_train, y_test = train_test_split(X, y, test_size=0.2, random_state=0)\n",
        "rfc = RandomForestClassifier(random_state=0)\n",
        "rfc.fit(x_train, y_train)\n",
        "y_hats = rfc.predict(x_test)\n",
        "\n",
        "print_measures(y_test, y_hats)"
      ],
      "execution_count": 10,
      "outputs": [
        {
          "output_type": "stream",
          "text": [
            "Accuracy:  0.8125331917153479\n",
            "Precision: 0.1485148514851485\n",
            "Recall:    0.14218009478672985\n",
            "F1 Score:  0.14527845036319612\n"
          ],
          "name": "stdout"
        }
      ]
    },
    {
      "cell_type": "markdown",
      "metadata": {
        "id": "CjnJNizBcXtO"
      },
      "source": [
        "Pretty miserable results! The accuracy here is misleadingly high given the imbalance of the labeled data. All it would take to get a score of ~0.89 is to only guess negative labels.</br></br>\n",
        "With a larger data set or a greater scope to this exercise, I wouldn't give up on BERT yet. I might try a model pre-trained on legal documents, try fine tuning the base model, or using a different pooling as a classification feature, but for today let's try some other encodings. To be semi-thorough about it, let's look at TF-IDF encodings built on uni- through trigrams."
      ]
    },
    {
      "cell_type": "code",
      "metadata": {
        "id": "WV_A1zdqeYY_"
      },
      "source": [
        "from sklearn.feature_extraction.text import TfidfVectorizer\n",
        "\n",
        "tfidfs = [TfidfVectorizer(sublinear_tf=True, min_df=4, norm='l2', \n",
        "                        ngram_range=(1, n), stop_words='english')\n",
        "              for n in range(1,4)]\n",
        "\n",
        "vectors = [vec.fit_transform(tos_data.sentence1).toarray() for vec in tfidfs]"
      ],
      "execution_count": 11,
      "outputs": []
    },
    {
      "cell_type": "markdown",
      "metadata": {
        "id": "HzR4jcn0hScN"
      },
      "source": [
        "And let's see what an untuned Random Forest Classifier can do with them"
      ]
    },
    {
      "cell_type": "code",
      "metadata": {
        "colab": {
          "base_uri": "https://localhost:8080/"
        },
        "id": "fDTYq1T5f0PK",
        "outputId": "0cde19b1-354d-435b-f2d5-ccc33960849f"
      },
      "source": [
        "#tos_data['tfidf_vectors'] = pd.Series(vectors)\n",
        "from sklearn.model_selection import train_test_split\n",
        "from sklearn.ensemble import RandomForestClassifier\n",
        "\n",
        "Xs = [vectors[i] for i in range(len(vectors))]\n",
        "y = tos_data.label.to_numpy()\n",
        "for i in range(len(Xs)):\n",
        "  X = Xs[i]\n",
        "  x_train, x_test, y_train, y_test = train_test_split(X, y, test_size=0.2, random_state=0)\n",
        "  rfc = RandomForestClassifier(random_state=0)\n",
        "  rfc.fit(x_train, y_train)\n",
        "  y_hats = rfc.predict(x_test)\n",
        "\n",
        "  print('Measures for {}-grams'.format(i+1))\n",
        "  print_measures(y_test, y_hats)"
      ],
      "execution_count": 12,
      "outputs": [
        {
          "output_type": "stream",
          "text": [
            "Measures for 1-grams\n",
            "Accuracy:  0.9325544344131704\n",
            "Precision: 0.9117647058823529\n",
            "Recall:    0.44075829383886256\n",
            "F1 Score:  0.5942492012779552\n",
            "Measures for 2-grams\n",
            "Accuracy:  0.9341476367498672\n",
            "Precision: 0.8717948717948718\n",
            "Recall:    0.4834123222748815\n",
            "F1 Score:  0.6219512195121952\n",
            "Measures for 3-grams\n",
            "Accuracy:  0.9368029739776952\n",
            "Precision: 0.896551724137931\n",
            "Recall:    0.4928909952606635\n",
            "F1 Score:  0.636085626911315\n"
          ],
          "name": "stdout"
        }
      ]
    },
    {
      "cell_type": "markdown",
      "metadata": {
        "id": "NhXfgyPFjXDn"
      },
      "source": [
        "Even without any tuning, that's quite a step up! Accuracy is past the label-imbalance threshold and the precision is higher than any of the paper's classifiers across the board. Recall still leaves quite a bit to be desired, though, so let's tinker with that a bit starting with the trigram embeddings.</br>\n",
        "As a decent general approach, I'll try running a grid search across a subset of parameters for the Random Forest Classifier. This approach generalizes to other classifiers I might throw at this, like, say, Logistic Regression and SVMs. For the sake of conciseness, I'll stick with RFC.</br>\n",
        "Note that this step takes a considerable amount of time, more than getting BERT embeddings even, because it's an exhaustive search of all combinations of the parameters."
      ]
    },
    {
      "cell_type": "code",
      "metadata": {
        "colab": {
          "base_uri": "https://localhost:8080/"
        },
        "id": "O0u6qbudnRsn",
        "outputId": "dfae4237-a588-4857-eea1-c21e80eceb62"
      },
      "source": [
        "from sklearn.model_selection import GridSearchCV\n",
        "from sklearn.metrics import make_scorer\n",
        "\n",
        "x_train, x_test, y_train, y_test = train_test_split(Xs[2], y, test_size=0.2, random_state=0)\n",
        "rfc = RandomForestClassifier(random_state=0)\n",
        "rfc.fit(x_train, y_train)\n",
        "\n",
        "scorer = make_scorer(recall_score)  #defaults to accuracy which is a perverse incentive in this case\n",
        "\n",
        "parameters = {'criterion':('gini', 'entropy'), 'max_features':('auto', 'log2', 'sqrt'),\n",
        "              'n_estimators': (10, 100, 150, 200),  #others parameters left out\n",
        "              }\n",
        "\n",
        "CV_random_forest = GridSearchCV(rfc, parameters, scoring=scorer)\n",
        "CV_random_forest.fit(X, y)"
      ],
      "execution_count": 13,
      "outputs": [
        {
          "output_type": "execute_result",
          "data": {
            "text/plain": [
              "GridSearchCV(cv=None, error_score=nan,\n",
              "             estimator=RandomForestClassifier(bootstrap=True, ccp_alpha=0.0,\n",
              "                                              class_weight=None,\n",
              "                                              criterion='gini', max_depth=None,\n",
              "                                              max_features='auto',\n",
              "                                              max_leaf_nodes=None,\n",
              "                                              max_samples=None,\n",
              "                                              min_impurity_decrease=0.0,\n",
              "                                              min_impurity_split=None,\n",
              "                                              min_samples_leaf=1,\n",
              "                                              min_samples_split=2,\n",
              "                                              min_weight_fraction_leaf=0.0,\n",
              "                                              n_estimators=100, n_jobs=None,\n",
              "                                              oob_score=False, random_state=0,\n",
              "                                              verbose=0, warm_start=False),\n",
              "             iid='deprecated', n_jobs=None,\n",
              "             param_grid={'criterion': ('gini', 'entropy'),\n",
              "                         'max_features': ('auto', 'log2', 'sqrt'),\n",
              "                         'n_estimators': (10, 100, 150, 200)},\n",
              "             pre_dispatch='2*n_jobs', refit=True, return_train_score=False,\n",
              "             scoring=make_scorer(recall_score), verbose=0)"
            ]
          },
          "metadata": {
            "tags": []
          },
          "execution_count": 13
        }
      ]
    },
    {
      "cell_type": "code",
      "metadata": {
        "colab": {
          "base_uri": "https://localhost:8080/"
        },
        "id": "68hiGVCO5DfJ",
        "outputId": "b1fba9dc-35a6-471b-9d7b-acec9b1985b1"
      },
      "source": [
        "print(CV_random_forest.best_params_)\n",
        "print(CV_random_forest.best_score_)"
      ],
      "execution_count": 14,
      "outputs": [
        {
          "output_type": "stream",
          "text": [
            "{'criterion': 'gini', 'max_features': 'auto', 'n_estimators': 200}\n",
            "0.4709113080999954\n"
          ],
          "name": "stdout"
        }
      ]
    },
    {
      "cell_type": "markdown",
      "metadata": {
        "id": "jrb7BJXW3-al"
      },
      "source": [
        "Now with a decent hint about how to configure the Random Forest Classifier, we can replicate the Leave One Out validation. Again, if the goal were to thoroughly seek to improve upon the baseline from the paper the code below would include other classifiers (and I would seek out the full eight label dataset).\n",
        "**Note, the last time I ran the grid search code above it timed out so the outputs for the cells below got kludged. Rather than spend another hour or so recreating it, just imagine a very similar F1 to the result above."
      ]
    },
    {
      "cell_type": "code",
      "metadata": {
        "colab": {
          "base_uri": "https://localhost:8080/",
          "height": 246
        },
        "id": "blLeE4pfuEFg",
        "outputId": "ccb3b4dd-5cfe-45ab-8a2e-18d4c2ec8e37"
      },
      "source": [
        "from sklearn.model_selection import LeaveOneOut\n",
        "#from sklearn.linear_model import LogisticRegression\n",
        "from sklearn.ensemble import RandomForestClassifier\n",
        "#from sklearn.svm import SVC\n",
        "\n",
        "cv = LeaveOneOut()\n",
        "models = [RandomForestClassifier(random_state=0)]#, **CV_random_forest.best_params_)]\n",
        "num_models = len(models)\n",
        "y_true, y_preds = [], [ [] for _ in range(num_models)]\n",
        "X, y = vectors[2], tos_data.label.to_numpy()\n",
        "\n",
        "for train_ix, test_ix in cv.split(X):\n",
        "  x_train, x_test = X[train_ix], X[test_ix]\n",
        "  y_train, y_test = y[train_ix], y[test_ix]\n",
        "  #print(x_train.shape)\n",
        "  #print(y_train.shape)\n",
        "  \n",
        "  #models = [LogisticRegression(random_state=0), RandomForestClassifier(random_state=0)]\n",
        "  for m in models:\n",
        "    m.fit(x_train, y_train)\n",
        "\t# evaluate model\n",
        "  yhats = [m.predict(x_test) for m in models]\n",
        "\t# store\n",
        "  #print(type(y_test))\n",
        "  y_true.append(y_test[0])\n",
        "  for i in range(num_models):\n",
        "    y_preds[i].append(yhats[i][0])\n",
        "    #y_pred.append(yhat[0])\n"
      ],
      "execution_count": 1,
      "outputs": [
        {
          "output_type": "error",
          "ename": "NameError",
          "evalue": "ignored",
          "traceback": [
            "\u001b[0;31m---------------------------------------------------------------------------\u001b[0m",
            "\u001b[0;31mNameError\u001b[0m                                 Traceback (most recent call last)",
            "\u001b[0;32m<ipython-input-1-6811d3322608>\u001b[0m in \u001b[0;36m<module>\u001b[0;34m()\u001b[0m\n\u001b[1;32m      8\u001b[0m \u001b[0mnum_models\u001b[0m \u001b[0;34m=\u001b[0m \u001b[0mlen\u001b[0m\u001b[0;34m(\u001b[0m\u001b[0mmodels\u001b[0m\u001b[0;34m)\u001b[0m\u001b[0;34m\u001b[0m\u001b[0;34m\u001b[0m\u001b[0m\n\u001b[1;32m      9\u001b[0m \u001b[0my_true\u001b[0m\u001b[0;34m,\u001b[0m \u001b[0my_preds\u001b[0m \u001b[0;34m=\u001b[0m \u001b[0;34m[\u001b[0m\u001b[0;34m]\u001b[0m\u001b[0;34m,\u001b[0m \u001b[0;34m[\u001b[0m \u001b[0;34m[\u001b[0m\u001b[0;34m]\u001b[0m \u001b[0;32mfor\u001b[0m \u001b[0m_\u001b[0m \u001b[0;32min\u001b[0m \u001b[0mrange\u001b[0m\u001b[0;34m(\u001b[0m\u001b[0mnum_models\u001b[0m\u001b[0;34m)\u001b[0m\u001b[0;34m]\u001b[0m\u001b[0;34m\u001b[0m\u001b[0;34m\u001b[0m\u001b[0m\n\u001b[0;32m---> 10\u001b[0;31m \u001b[0mX\u001b[0m\u001b[0;34m,\u001b[0m \u001b[0my\u001b[0m \u001b[0;34m=\u001b[0m \u001b[0mvectors\u001b[0m\u001b[0;34m[\u001b[0m\u001b[0;36m2\u001b[0m\u001b[0;34m]\u001b[0m\u001b[0;34m,\u001b[0m \u001b[0mtos_data\u001b[0m\u001b[0;34m.\u001b[0m\u001b[0mlabel\u001b[0m\u001b[0;34m.\u001b[0m\u001b[0mto_numpy\u001b[0m\u001b[0;34m(\u001b[0m\u001b[0;34m)\u001b[0m\u001b[0;34m\u001b[0m\u001b[0;34m\u001b[0m\u001b[0m\n\u001b[0m\u001b[1;32m     11\u001b[0m \u001b[0;34m\u001b[0m\u001b[0m\n\u001b[1;32m     12\u001b[0m \u001b[0;32mfor\u001b[0m \u001b[0mtrain_ix\u001b[0m\u001b[0;34m,\u001b[0m \u001b[0mtest_ix\u001b[0m \u001b[0;32min\u001b[0m \u001b[0mcv\u001b[0m\u001b[0;34m.\u001b[0m\u001b[0msplit\u001b[0m\u001b[0;34m(\u001b[0m\u001b[0mX\u001b[0m\u001b[0;34m)\u001b[0m\u001b[0;34m:\u001b[0m\u001b[0;34m\u001b[0m\u001b[0;34m\u001b[0m\u001b[0m\n",
            "\u001b[0;31mNameError\u001b[0m: name 'vectors' is not defined"
          ]
        }
      ]
    },
    {
      "cell_type": "code",
      "metadata": {
        "colab": {
          "base_uri": "https://localhost:8080/",
          "height": 246
        },
        "id": "yH75POiy-Ec8",
        "outputId": "ad4567c0-2a1e-489c-e768-4f977c6b4955"
      },
      "source": [
        "from sklearn.metrics import accuracy_score, precision_score, recall_score, f1_score\n",
        "\n",
        "for y_pred in y_preds:\n",
        "  acc = accuracy_score(y_true, y_pred)\n",
        "  print('Accuracy: %.3f' % acc)\n",
        "  prec = precision_score(y_true, y_pred)\n",
        "  recall = recall_score(y_true, y_pred)\n",
        "  f_score = f1_score(y_true, y_pred)\n",
        "  print(\"Precision:{}\\nRecal:{}\\nF1 Score:{}\".format(prec,recall,f_score))"
      ],
      "execution_count": 1,
      "outputs": [
        {
          "output_type": "error",
          "ename": "NameError",
          "evalue": "ignored",
          "traceback": [
            "\u001b[0;31m---------------------------------------------------------------------------\u001b[0m",
            "\u001b[0;31mNameError\u001b[0m                                 Traceback (most recent call last)",
            "\u001b[0;32m<ipython-input-1-92810eb905eb>\u001b[0m in \u001b[0;36m<module>\u001b[0;34m()\u001b[0m\n\u001b[1;32m      1\u001b[0m \u001b[0;32mfrom\u001b[0m \u001b[0msklearn\u001b[0m\u001b[0;34m.\u001b[0m\u001b[0mmetrics\u001b[0m \u001b[0;32mimport\u001b[0m \u001b[0maccuracy_score\u001b[0m\u001b[0;34m,\u001b[0m \u001b[0mprecision_score\u001b[0m\u001b[0;34m,\u001b[0m \u001b[0mrecall_score\u001b[0m\u001b[0;34m,\u001b[0m \u001b[0mf1_score\u001b[0m\u001b[0;34m\u001b[0m\u001b[0;34m\u001b[0m\u001b[0m\n\u001b[1;32m      2\u001b[0m \u001b[0;34m\u001b[0m\u001b[0m\n\u001b[0;32m----> 3\u001b[0;31m \u001b[0;32mfor\u001b[0m \u001b[0my_pred\u001b[0m \u001b[0;32min\u001b[0m \u001b[0my_preds\u001b[0m\u001b[0;34m:\u001b[0m\u001b[0;34m\u001b[0m\u001b[0;34m\u001b[0m\u001b[0m\n\u001b[0m\u001b[1;32m      4\u001b[0m   \u001b[0macc\u001b[0m \u001b[0;34m=\u001b[0m \u001b[0maccuracy_score\u001b[0m\u001b[0;34m(\u001b[0m\u001b[0my_true\u001b[0m\u001b[0;34m,\u001b[0m \u001b[0my_pred\u001b[0m\u001b[0;34m)\u001b[0m\u001b[0;34m\u001b[0m\u001b[0;34m\u001b[0m\u001b[0m\n\u001b[1;32m      5\u001b[0m   \u001b[0mprint\u001b[0m\u001b[0;34m(\u001b[0m\u001b[0;34m'Accuracy: %.3f'\u001b[0m \u001b[0;34m%\u001b[0m \u001b[0macc\u001b[0m\u001b[0;34m)\u001b[0m\u001b[0;34m\u001b[0m\u001b[0;34m\u001b[0m\u001b[0m\n",
            "\u001b[0;31mNameError\u001b[0m: name 'y_preds' is not defined"
          ]
        }
      ]
    },
    {
      "cell_type": "code",
      "metadata": {
        "id": "ad13vN-g3wfV"
      },
      "source": [
        ""
      ],
      "execution_count": null,
      "outputs": []
    }
  ]
}